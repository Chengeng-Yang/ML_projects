{
  "nbformat": 4,
  "nbformat_minor": 0,
  "metadata": {
    "kernelspec": {
      "display_name": "Python 3",
      "language": "python",
      "name": "python3"
    },
    "language_info": {
      "codemirror_mode": {
        "name": "ipython",
        "version": 3
      },
      "file_extension": ".py",
      "mimetype": "text/x-python",
      "name": "python",
      "nbconvert_exporter": "python",
      "pygments_lexer": "ipython3",
      "version": "3.8.3"
    },
    "colab": {
      "name": "ML_PROJECT2.ipynb",
      "provenance": [],
      "include_colab_link": true
    }
  },
  "cells": [
    {
      "cell_type": "markdown",
      "metadata": {
        "id": "view-in-github",
        "colab_type": "text"
      },
      "source": [
        "<a href=\"https://colab.research.google.com/github/Chengeng-Yang/ML_projects/blob/main/ML_PROJECT2.ipynb\" target=\"_parent\"><img src=\"https://colab.research.google.com/assets/colab-badge.svg\" alt=\"Open In Colab\"/></a>"
      ]
    },
    {
      "cell_type": "code",
      "metadata": {
        "id": "k60ggaeDSTJv"
      },
      "source": [
        "import h5py\n",
        "fid = h5py.File(\"dataset_patchcamelyon.h5\", \"r\")\n",
        "X, Y = fid['X'][:], fid['Y'][:]\n",
        "X = X / 255.\n",
        "fid.close()\n"
      ],
      "execution_count": null,
      "outputs": []
    },
    {
      "cell_type": "code",
      "metadata": {
        "id": "h4Cnjf_dSTJ2",
        "outputId": "f57d0f40-f655-43e2-ff97-d631c69564d8"
      },
      "source": [
        "X.shape"
      ],
      "execution_count": null,
      "outputs": [
        {
          "output_type": "execute_result",
          "data": {
            "text/plain": [
              "(2500, 96, 96, 3)"
            ]
          },
          "metadata": {
            "tags": []
          },
          "execution_count": 6
        }
      ]
    },
    {
      "cell_type": "code",
      "metadata": {
        "id": "JpyQQPerSTJ3",
        "outputId": "5ec86692-0544-48df-f944-e34940e1230e"
      },
      "source": [
        "X"
      ],
      "execution_count": null,
      "outputs": [
        {
          "output_type": "execute_result",
          "data": {
            "text/plain": [
              "array([[[[224, 111, 191],\n",
              "         [239, 130, 209],\n",
              "         [230, 127, 206],\n",
              "         ...,\n",
              "         [152,  82, 170],\n",
              "         [224, 147, 225],\n",
              "         [212, 131, 200]],\n",
              "\n",
              "        [[177,  63, 150],\n",
              "         [188,  78, 164],\n",
              "         [177,  73, 158],\n",
              "         ...,\n",
              "         [215, 145, 234],\n",
              "         [224, 147, 227],\n",
              "         [215, 135, 208]],\n",
              "\n",
              "        [[208,  99, 192],\n",
              "         [194,  87, 181],\n",
              "         [173,  70, 162],\n",
              "         ...,\n",
              "         [176, 105, 197],\n",
              "         [203, 128, 210],\n",
              "         [211, 133, 208]],\n",
              "\n",
              "        ...,\n",
              "\n",
              "        [[ 88,  31, 134],\n",
              "         [ 94,  38, 137],\n",
              "         [137,  82, 176],\n",
              "         ...,\n",
              "         [158,  99, 189],\n",
              "         [110,  50, 140],\n",
              "         [119,  58, 151]],\n",
              "\n",
              "        [[155,  95, 193],\n",
              "         [132,  75, 170],\n",
              "         [ 85,  29, 118],\n",
              "         ...,\n",
              "         [121,  63, 148],\n",
              "         [ 97,  38, 128],\n",
              "         [127,  68, 160]],\n",
              "\n",
              "        [[151,  90, 185],\n",
              "         [131,  72, 164],\n",
              "         [115,  57, 142],\n",
              "         ...,\n",
              "         [166, 108, 192],\n",
              "         [122,  64, 151],\n",
              "         [ 81,  25, 114]]],\n",
              "\n",
              "\n",
              "       [[[106,  67, 111],\n",
              "         [112,  69, 114],\n",
              "         [ 84,  35,  80],\n",
              "         ...,\n",
              "         [181, 157, 183],\n",
              "         [200, 176, 202],\n",
              "         [117,  92, 121]],\n",
              "\n",
              "        [[ 95,  54,  98],\n",
              "         [117,  71, 117],\n",
              "         [132,  80, 126],\n",
              "         ...,\n",
              "         [194, 170, 194],\n",
              "         [255, 235, 255],\n",
              "         [176, 152, 178]],\n",
              "\n",
              "        [[ 98,  52,  99],\n",
              "         [108,  60, 108],\n",
              "         [ 97,  43,  92],\n",
              "         ...,\n",
              "         [222, 199, 219],\n",
              "         [255, 229, 254],\n",
              "         [188, 162, 189]],\n",
              "\n",
              "        ...,\n",
              "\n",
              "        [[219, 189, 215],\n",
              "         [167, 135, 158],\n",
              "         [194, 156, 179],\n",
              "         ...,\n",
              "         [168, 116, 152],\n",
              "         [197, 144, 174],\n",
              "         [210, 156, 180]],\n",
              "\n",
              "        [[243, 220, 238],\n",
              "         [198, 174, 187],\n",
              "         [196, 169, 178],\n",
              "         ...,\n",
              "         [159, 109, 146],\n",
              "         [207, 159, 185],\n",
              "         [183, 136, 156]],\n",
              "\n",
              "        [[229, 212, 222],\n",
              "         [217, 198, 202],\n",
              "         [250, 229, 228],\n",
              "         ...,\n",
              "         [167, 119, 157],\n",
              "         [136,  92, 117],\n",
              "         [238, 195, 214]]],\n",
              "\n",
              "\n",
              "       [[[172, 107, 191],\n",
              "         [193, 128, 212],\n",
              "         [123,  57, 144],\n",
              "         ...,\n",
              "         [ 85,  40, 125],\n",
              "         [ 80,  37, 126],\n",
              "         [ 76,  38, 125]],\n",
              "\n",
              "        [[152,  95, 174],\n",
              "         [159, 100, 182],\n",
              "         [147,  88, 172],\n",
              "         ...,\n",
              "         [ 94,  44, 131],\n",
              "         [ 86,  41, 126],\n",
              "         [ 82,  38, 125]],\n",
              "\n",
              "        [[150, 104, 176],\n",
              "         [138,  87, 162],\n",
              "         [152,  99, 181],\n",
              "         ...,\n",
              "         [108,  48, 134],\n",
              "         [ 98,  43, 127],\n",
              "         [ 92,  38, 124]],\n",
              "\n",
              "        ...,\n",
              "\n",
              "        [[184, 107, 177],\n",
              "         [168,  95, 168],\n",
              "         [209, 132, 210],\n",
              "         ...,\n",
              "         [118,  60, 145],\n",
              "         [106,  52, 136],\n",
              "         [103,  51, 134]],\n",
              "\n",
              "        [[236, 154, 226],\n",
              "         [215, 137, 212],\n",
              "         [158,  79, 158],\n",
              "         ...,\n",
              "         [119,  65, 153],\n",
              "         [107,  57, 144],\n",
              "         [102,  57, 142]],\n",
              "\n",
              "        [[191, 103, 177],\n",
              "         [142,  60, 136],\n",
              "         [187, 106, 185],\n",
              "         ...,\n",
              "         [121,  68, 158],\n",
              "         [114,  65, 154],\n",
              "         [113,  69, 156]]],\n",
              "\n",
              "\n",
              "       ...,\n",
              "\n",
              "\n",
              "       [[[227, 157, 220],\n",
              "         [186, 103, 175],\n",
              "         [185,  88, 167],\n",
              "         ...,\n",
              "         [111,  62, 153],\n",
              "         [ 76,  29, 123],\n",
              "         [ 85,  38, 134]],\n",
              "\n",
              "        [[214, 134, 203],\n",
              "         [216, 126, 200],\n",
              "         [201, 100, 180],\n",
              "         ...,\n",
              "         [ 91,  45, 143],\n",
              "         [ 91,  46, 147],\n",
              "         [ 87,  42, 145]],\n",
              "\n",
              "        [[179,  89, 163],\n",
              "         [227, 130, 209],\n",
              "         [197,  94, 177],\n",
              "         ...,\n",
              "         [ 98,  56, 158],\n",
              "         [ 78,  37, 143],\n",
              "         [ 90,  48, 156]],\n",
              "\n",
              "        ...,\n",
              "\n",
              "        [[189,  84, 176],\n",
              "         [191,  88, 179],\n",
              "         [176,  77, 168],\n",
              "         ...,\n",
              "         [202, 134, 217],\n",
              "         [171,  94, 176],\n",
              "         [223, 138, 221]],\n",
              "\n",
              "        [[198,  86, 170],\n",
              "         [193,  85, 171],\n",
              "         [216, 117, 208],\n",
              "         ...,\n",
              "         [170, 100, 186],\n",
              "         [188, 104, 190],\n",
              "         [208, 114, 200]],\n",
              "\n",
              "        [[186,  69, 147],\n",
              "         [190,  78, 162],\n",
              "         [183,  84, 174],\n",
              "         ...,\n",
              "         [170,  98, 184],\n",
              "         [188,  98, 186],\n",
              "         [242, 142, 230]]],\n",
              "\n",
              "\n",
              "       [[[123,  69, 145],\n",
              "         [145,  84, 161],\n",
              "         [202, 130, 206],\n",
              "         ...,\n",
              "         [215, 134, 201],\n",
              "         [140,  61, 140],\n",
              "         [184, 104, 193]],\n",
              "\n",
              "        [[ 99,  47, 132],\n",
              "         [ 88,  30, 115],\n",
              "         [116,  48, 131],\n",
              "         ...,\n",
              "         [203, 125, 200],\n",
              "         [210, 132, 218],\n",
              "         [176,  99, 193]],\n",
              "\n",
              "        [[ 72,  24, 123],\n",
              "         [102,  48, 146],\n",
              "         [139,  78, 173],\n",
              "         ...,\n",
              "         [167,  94, 175],\n",
              "         [115,  40, 131],\n",
              "         [121,  47, 144]],\n",
              "\n",
              "        ...,\n",
              "\n",
              "        [[173, 142, 210],\n",
              "         [ 59,  30, 110],\n",
              "         [ 77,  46, 139],\n",
              "         ...,\n",
              "         [210, 101, 182],\n",
              "         [193,  93, 179],\n",
              "         [175,  82, 171]],\n",
              "\n",
              "        [[184, 149, 213],\n",
              "         [ 95,  63, 139],\n",
              "         [ 73,  40, 131],\n",
              "         ...,\n",
              "         [182,  81, 161],\n",
              "         [187,  97, 185],\n",
              "         [149,  65, 159]],\n",
              "\n",
              "        [[172, 133, 196],\n",
              "         [ 78,  44, 120],\n",
              "         [ 65,  32, 123],\n",
              "         ...,\n",
              "         [206, 113, 194],\n",
              "         [197, 114, 206],\n",
              "         [123,  47, 147]]],\n",
              "\n",
              "\n",
              "       [[[104,  71, 100],\n",
              "         [238, 205, 232],\n",
              "         [178, 143, 165],\n",
              "         ...,\n",
              "         [ 29,   6,  16],\n",
              "         [173, 151, 164],\n",
              "         [131, 108, 124]],\n",
              "\n",
              "        [[ 94,  64,  92],\n",
              "         [255, 229, 255],\n",
              "         [143, 110, 131],\n",
              "         ...,\n",
              "         [227, 207, 218],\n",
              "         [255, 247, 255],\n",
              "         [249, 230, 249]],\n",
              "\n",
              "        [[100,  67,  96],\n",
              "         [255, 242, 255],\n",
              "         [195, 161, 185],\n",
              "         ...,\n",
              "         [253, 235, 247],\n",
              "         [220, 203, 221],\n",
              "         [234, 216, 238]],\n",
              "\n",
              "        ...,\n",
              "\n",
              "        [[ 77,  47,  73],\n",
              "         [148, 123, 145],\n",
              "         [255, 247, 255],\n",
              "         ...,\n",
              "         [105,  76, 120],\n",
              "         [ 85,  54,  95],\n",
              "         [136, 106, 142]],\n",
              "\n",
              "        [[ 50,  25,  55],\n",
              "         [ 54,  31,  60],\n",
              "         [194, 174, 201],\n",
              "         ...,\n",
              "         [119,  94, 134],\n",
              "         [112,  87, 126],\n",
              "         [110,  86, 118]],\n",
              "\n",
              "        [[123,  99, 135],\n",
              "         [ 55,  34,  67],\n",
              "         [110,  91, 121],\n",
              "         ...,\n",
              "         [249, 227, 255],\n",
              "         [239, 217, 253],\n",
              "         [176, 155, 186]]]], dtype=uint8)"
            ]
          },
          "metadata": {
            "tags": []
          },
          "execution_count": 9
        }
      ]
    },
    {
      "cell_type": "code",
      "metadata": {
        "id": "ABhyXHgcSTJ4"
      },
      "source": [
        "import matplotlib      # MatPlotLib is for making plots & figures\n",
        "import matplotlib.pyplot as plt     # PyPlot is a subset of the library for making MATLAB-style plots"
      ],
      "execution_count": null,
      "outputs": []
    },
    {
      "cell_type": "code",
      "metadata": {
        "id": "AocfLkTuSTJ4",
        "outputId": "72608abb-e364-47f3-ab44-72b632970801"
      },
      "source": [
        "plt.imshow(X[0,:, :, :])"
      ],
      "execution_count": null,
      "outputs": [
        {
          "output_type": "execute_result",
          "data": {
            "text/plain": [
              "<matplotlib.image.AxesImage at 0x7ff38e196e20>"
            ]
          },
          "metadata": {
            "tags": []
          },
          "execution_count": 11
        },
        {
          "output_type": "display_data",
          "data": {
            "image/png": "[encoded data removed]",
            "text/plain": [
              "<Figure size 432x288 with 1 Axes>"
            ]
          },
          "metadata": {
            "tags": [],
            "needs_background": "light"
          }
        }
      ]
    },
    {
      "cell_type": "code",
      "metadata": {
        "id": "Ch-dTpkSSTJ4",
        "outputId": "051d7c69-e4c6-41c3-f7f6-c9f25c03ac59"
      },
      "source": [
        "Y.shape"
      ],
      "execution_count": null,
      "outputs": [
        {
          "output_type": "execute_result",
          "data": {
            "text/plain": [
              "(2500, 1, 1, 1)"
            ]
          },
          "metadata": {
            "tags": []
          },
          "execution_count": 41
        }
      ]
    },
    {
      "cell_type": "code",
      "metadata": {
        "id": "lcyukaoaSTJ5",
        "outputId": "7642429b-0d52-4405-a10d-527f208d0537"
      },
      "source": [
        "X0 = X.reshape(2500,-1)\n",
        "X0.shape"
      ],
      "execution_count": null,
      "outputs": [
        {
          "output_type": "execute_result",
          "data": {
            "text/plain": [
              "(2500, 27648)"
            ]
          },
          "metadata": {
            "tags": []
          },
          "execution_count": 80
        }
      ]
    },
    {
      "cell_type": "code",
      "metadata": {
        "id": "y8rbuO61STJ5",
        "outputId": "8de86812-b005-42e6-90d5-aea8dd72e7ad"
      },
      "source": [
        "X[:,:,:,0].shape"
      ],
      "execution_count": null,
      "outputs": [
        {
          "output_type": "execute_result",
          "data": {
            "text/plain": [
              "(2500, 96, 96)"
            ]
          },
          "metadata": {
            "tags": []
          },
          "execution_count": 48
        }
      ]
    },
    {
      "cell_type": "code",
      "metadata": {
        "id": "-rOpUqAISTJ6",
        "outputId": "d6edfc44-b5b2-4682-d92e-b28779c3f30d"
      },
      "source": [
        "(X[0][0][0])"
      ],
      "execution_count": null,
      "outputs": [
        {
          "output_type": "execute_result",
          "data": {
            "text/plain": [
              "array([0.87843137, 0.43529412, 0.74901961])"
            ]
          },
          "metadata": {
            "tags": []
          },
          "execution_count": 53
        }
      ]
    },
    {
      "cell_type": "code",
      "metadata": {
        "id": "VkqJsmQtSTJ6"
      },
      "source": [
        "#SPLIT X,Y\n",
        "from sklearn.model_selection import train_test_split\n",
        "import numpy as np      \n",
        "#redo spliting, use x0_train instead\n",
        "\n",
        "shuffle_index=np.random.permutation(2500)\n",
        "X_S,Y_S = X[shuffle_index],Y[shuffle_index]\n",
        "\n",
        "X0train,X0_test,Y0train,Y0_test=train_test_split(X_S,Y_S,test_size=0.2,random_state=30) #scikilearn\n",
        "X0_train,X0_val,Y0_train,Y0_val=train_test_split(X0train,Y0train,test_size=0.2,random_state=36)\n",
        "\n"
      ],
      "execution_count": null,
      "outputs": []
    },
    {
      "cell_type": "code",
      "metadata": {
        "id": "5DoOROcWSTJ6"
      },
      "source": [
        "import numpy as np      \n",
        "#no dimension reduction\n",
        "\n",
        "x0_train,x0_test=X0_train.reshape(1600,-1),X0_test.reshape(500,-1) \n",
        "y0_train,y0_test=Y0_train.reshape(1600,),Y0_test.reshape(500,) \n",
        "\n",
        "#scikilearn: x0_train,x0_test,y0_train,y0_test, for direct processing"
      ],
      "execution_count": null,
      "outputs": []
    },
    {
      "cell_type": "code",
      "metadata": {
        "id": "sRSFrf87STJ7"
      },
      "source": [
        ""
      ],
      "execution_count": null,
      "outputs": []
    },
    {
      "cell_type": "code",
      "metadata": {
        "id": "FwA9fgIASTJ7",
        "outputId": "469afe3d-6807-4d7b-a3e7-1fd262c84150"
      },
      "source": [
        "import tensorflow as tf\n",
        "from tensorflow import keras\n",
        "\n",
        "# max pooling\n",
        "maxpool=tf.keras.layers.MaxPooling2D(pool_size=(2,2),strides=(2,2),padding='valid')\n",
        "\n",
        "x1_train,x1_test = maxpool(X0_train),maxpool(X0_test)\n",
        "\n",
        "# average pooling\n",
        "avepool=tf.keras.layers.AveragePooling2D(pool_size=(2,2),strides=(2,2),padding='valid')\n",
        "\n",
        "x2_train,x2_test = avepool(X0_train),avepool(X0_test)"
      ],
      "execution_count": null,
      "outputs": [
        {
          "output_type": "stream",
          "text": [
            "WARNING:tensorflow:Layer max_pooling2d_2 is casting an input tensor from dtype float64 to the layer's dtype of float32, which is new behavior in TensorFlow 2.  The layer has dtype float32 because it's dtype defaults to floatx.\n",
            "\n",
            "If you intended to run this layer in float32, you can safely ignore this warning. If in doubt, this warning is likely only an issue if you are porting a TensorFlow 1.X model to TensorFlow 2.\n",
            "\n",
            "To change all layers to have dtype float64 by default, call `tf.keras.backend.set_floatx('float64')`. To change just this layer, pass dtype='float64' to the layer constructor. If you are the author of this layer, you can disable autocasting by passing autocast=False to the base Layer constructor.\n",
            "\n",
            "WARNING:tensorflow:Layer average_pooling2d_1 is casting an input tensor from dtype float64 to the layer's dtype of float32, which is new behavior in TensorFlow 2.  The layer has dtype float32 because it's dtype defaults to floatx.\n",
            "\n",
            "If you intended to run this layer in float32, you can safely ignore this warning. If in doubt, this warning is likely only an issue if you are porting a TensorFlow 1.X model to TensorFlow 2.\n",
            "\n",
            "To change all layers to have dtype float64 by default, call `tf.keras.backend.set_floatx('float64')`. To change just this layer, pass dtype='float64' to the layer constructor. If you are the author of this layer, you can disable autocasting by passing autocast=False to the base Layer constructor.\n",
            "\n"
          ],
          "name": "stdout"
        }
      ]
    },
    {
      "cell_type": "code",
      "metadata": {
        "id": "Tk8c-2EvSTJ7",
        "outputId": "916b262d-26cf-4676-ee50-09e268f78a23"
      },
      "source": [
        "x1_train.shape"
      ],
      "execution_count": null,
      "outputs": [
        {
          "output_type": "execute_result",
          "data": {
            "text/plain": [
              "TensorShape([1600, 48, 48, 3])"
            ]
          },
          "metadata": {
            "tags": []
          },
          "execution_count": 16
        }
      ]
    },
    {
      "cell_type": "code",
      "metadata": {
        "id": "1kkoL6sNSTJ8"
      },
      "source": [
        "x1_train,x1_test=np.asarray(x1_train),np.asarray(x1_test)\n",
        "\n",
        "x1_train,x1_test=x1_train.reshape(1600,-1),x1_test.reshape(500,-1) \n",
        "y1_train,y1_test=Y0_train.reshape(1600,),Y0_test.reshape(500,) "
      ],
      "execution_count": null,
      "outputs": []
    },
    {
      "cell_type": "code",
      "metadata": {
        "id": "1t35sZJPSTJ8"
      },
      "source": [
        "x2_train,x2_test=np.asarray(x2_train),np.asarray(x2_test)\n",
        "\n",
        "x2_train,x2_test=x2_train.reshape(1600,-1),x2_test.reshape(500,-1) \n",
        "y2_train,y2_test=Y0_train.reshape(1600,),Y0_test.reshape(500,) "
      ],
      "execution_count": null,
      "outputs": []
    },
    {
      "cell_type": "code",
      "metadata": {
        "id": "IStV20-gSTJ8"
      },
      "source": [
        "x2_val = avepool(X0_val)\n",
        "x2_val=np.asarray(x2_val)\n",
        "x2_val=x2_val.reshape(400,-1)\n",
        "y2_val=Y0_val.reshape(400,)\n"
      ],
      "execution_count": null,
      "outputs": []
    },
    {
      "cell_type": "code",
      "metadata": {
        "id": "lNhtAfBVSTJ8"
      },
      "source": [
        ""
      ],
      "execution_count": null,
      "outputs": []
    },
    {
      "cell_type": "code",
      "metadata": {
        "id": "zLYtFzAQSTJ9"
      },
      "source": [
        "# averaging 3 layers\n",
        "x3_train,x3_test = np.average(X0_train, axis=3), np.average(X0_test, axis=3)"
      ],
      "execution_count": null,
      "outputs": []
    },
    {
      "cell_type": "code",
      "metadata": {
        "id": "KCPcASU4STJ9",
        "outputId": "1e57d5fb-6b21-4465-e0ff-ae94ac5ad212"
      },
      "source": [
        "x3_train.shape"
      ],
      "execution_count": null,
      "outputs": [
        {
          "output_type": "execute_result",
          "data": {
            "text/plain": [
              "(1600, 96, 96)"
            ]
          },
          "metadata": {
            "tags": []
          },
          "execution_count": 31
        }
      ]
    },
    {
      "cell_type": "code",
      "metadata": {
        "id": "cBdYRzgISTJ9"
      },
      "source": [
        "x3_train,x3_test=x3_train.reshape(1600,-1),x3_test.reshape(500,-1) \n",
        "y3_train,y3_test=Y0_train.reshape(1600,),Y0_test.reshape(500,) "
      ],
      "execution_count": null,
      "outputs": []
    },
    {
      "cell_type": "code",
      "metadata": {
        "id": "OlK2PNKdSTJ9",
        "outputId": "33a0cf77-5059-4101-d564-446112478492"
      },
      "source": [
        "x3_train.shape"
      ],
      "execution_count": null,
      "outputs": [
        {
          "output_type": "execute_result",
          "data": {
            "text/plain": [
              "(1600, 9216)"
            ]
          },
          "metadata": {
            "tags": []
          },
          "execution_count": 36
        }
      ]
    },
    {
      "cell_type": "code",
      "metadata": {
        "id": "s9xwliHGSTJ-"
      },
      "source": [
        ""
      ],
      "execution_count": null,
      "outputs": []
    },
    {
      "cell_type": "code",
      "metadata": {
        "id": "1WMyWO0XSTJ-"
      },
      "source": [
        ""
      ],
      "execution_count": null,
      "outputs": []
    },
    {
      "cell_type": "code",
      "metadata": {
        "id": "CDAELhq3STJ-",
        "outputId": "907728b1-acdb-4a6e-a92d-946116065c94"
      },
      "source": [
        "# No dimension reduction\n",
        "from sklearn.ensemble import RandomForestClassifier\n",
        "from sklearn.neighbors import KNeighborsClassifier\n",
        "from sklearn.naive_bayes import MultinomialNB\n",
        "from sklearn.model_selection import RandomizedSearchCV\n",
        "\n",
        "clf01 = RandomForestClassifier(criterion='gini',\n",
        "                              n_jobs=-1,\n",
        "                              random_state = 36)\n",
        "\n",
        "param1 = {\"n_estimators\": np.arange(1,500,50).tolist(),\n",
        "          \"max_depth\":np.arange(2,1000,75).tolist(),\n",
        "          \"min_samples_leaf\":np.arange(1,500,50).tolist(),\n",
        "          }\n",
        "\n",
        "search01 = RandomizedSearchCV(clf01, param1, cv = 4,\n",
        "                            n_iter=75, verbose=1)\n",
        "\n",
        "search01.fit(x0_train, y0_train)\n",
        "\n",
        "# Save the parameters\n",
        "RF0 = search01.best_params_\n",
        "print(RF0)"
      ],
      "execution_count": null,
      "outputs": [
        {
          "output_type": "stream",
          "text": [
            "Fitting 4 folds for each of 75 candidates, totalling 300 fits\n"
          ],
          "name": "stdout"
        },
        {
          "output_type": "stream",
          "text": [
            "[Parallel(n_jobs=1)]: Using backend SequentialBackend with 1 concurrent workers.\n",
            "[Parallel(n_jobs=1)]: Done 300 out of 300 | elapsed:  4.8min finished\n"
          ],
          "name": "stderr"
        },
        {
          "output_type": "stream",
          "text": [
            "{'n_estimators': 101, 'min_samples_leaf': 1, 'max_depth': 752}\n"
          ],
          "name": "stdout"
        }
      ]
    },
    {
      "cell_type": "code",
      "metadata": {
        "id": "lBITabgJSTJ-",
        "outputId": "7ae65703-b122-42ad-8537-aa93b5154663"
      },
      "source": [
        "# Create the optimal classifier\n",
        "clf01_opt = RandomForestClassifier(criterion='gini',\n",
        "                              n_jobs=-1,\n",
        "                              random_state = 36,\n",
        "                              n_estimators = RF0[\"n_estimators\"],\n",
        "                              max_depth = RF0[\"max_depth\"],\n",
        "                              min_samples_leaf = RF0[\"min_samples_leaf\"]\n",
        "                              )\n",
        "\n",
        "# Predict on test data\n",
        "clf01_opt.fit(x0_train, y0_train)"
      ],
      "execution_count": null,
      "outputs": [
        {
          "output_type": "execute_result",
          "data": {
            "text/plain": [
              "RandomForestClassifier(max_depth=752, n_estimators=101, n_jobs=-1,\n",
              "                       random_state=36)"
            ]
          },
          "metadata": {
            "tags": []
          },
          "execution_count": 56
        }
      ]
    },
    {
      "cell_type": "code",
      "metadata": {
        "id": "kVrAVNHRSTJ_",
        "outputId": "4f1e6919-6f1d-4a25-89fb-5a1afa6e00be"
      },
      "source": [
        "from sklearn.neighbors import KNeighborsClassifier\n",
        "from sklearn.model_selection import RandomizedSearchCV\n",
        "\n",
        "clf02 = KNeighborsClassifier()\n",
        "\n",
        "param2 = {\n",
        "    \"n_neighbors\": np.arange(2,250,50),\n",
        "    \"weights\": ['uniform','distance'],\n",
        "    \"p\": [1,2],\n",
        "    \"metric\": ['minkowski', 'euclidean','manhattan']}\n",
        "\n",
        "search02 = RandomizedSearchCV(clf02, param2, cv = 4,\n",
        "                                n_iter=75,\n",
        "                                return_train_score=False,\n",
        "                                verbose=1)\n",
        "search02.fit(x0_train, y0_train)\n",
        "\n",
        "# Save the best parameters\n",
        "knn0 = search02.best_params_\n",
        "print(knn0)"
      ],
      "execution_count": null,
      "outputs": [
        {
          "output_type": "stream",
          "text": [
            "/home/chengeng/anaconda3/lib/python3.8/site-packages/sklearn/model_selection/_search.py:278: UserWarning: The total space of parameters 60 is smaller than n_iter=75. Running 60 iterations. For exhaustive searches, use GridSearchCV.\n",
            "  warnings.warn(\n",
            "[Parallel(n_jobs=1)]: Using backend SequentialBackend with 1 concurrent workers.\n"
          ],
          "name": "stderr"
        },
        {
          "output_type": "stream",
          "text": [
            "Fitting 4 folds for each of 60 candidates, totalling 240 fits\n"
          ],
          "name": "stdout"
        },
        {
          "output_type": "stream",
          "text": [
            "[Parallel(n_jobs=1)]: Done 240 out of 240 | elapsed: 96.3min finished\n"
          ],
          "name": "stderr"
        },
        {
          "output_type": "stream",
          "text": [
            "{'weights': 'distance', 'p': 1, 'n_neighbors': 52, 'metric': 'minkowski'}\n"
          ],
          "name": "stdout"
        }
      ]
    },
    {
      "cell_type": "code",
      "metadata": {
        "id": "GyrdpbTASTJ_",
        "outputId": "71be4125-0748-4177-8bec-ff1e46232d4c"
      },
      "source": [
        "# Create the optimal classifier\n",
        "clf02_opt = KNeighborsClassifier(\n",
        "    n_neighbors = knn0['n_neighbors'],\n",
        "    weights = knn0['weights'],\n",
        "    p = knn0['p'],\n",
        "    metric = knn0['metric']\n",
        "    )\n",
        "\n",
        "\n",
        "# Predict on test data\n",
        "clf02_opt.fit(x0_train, y0_train)"
      ],
      "execution_count": null,
      "outputs": [
        {
          "output_type": "execute_result",
          "data": {
            "text/plain": [
              "KNeighborsClassifier(n_neighbors=52, p=1, weights='distance')"
            ]
          },
          "metadata": {
            "tags": []
          },
          "execution_count": 57
        }
      ]
    },
    {
      "cell_type": "code",
      "metadata": {
        "id": "m3ZAQbXOSTKA",
        "outputId": "7eb8a612-b145-4b97-a5c0-ce51eedb0aab"
      },
      "source": [
        "# initialize the classifiers\n",
        "clf05 = MultinomialNB(class_prior=None)\n",
        "\n",
        "param5 = {\n",
        "    'alpha': np.arange(0.01, 2, 0.02),\n",
        "    'fit_prior': ['True','False']\n",
        "                }\n",
        "\n",
        "search05 = RandomizedSearchCV(clf05, param5, cv = 4,\n",
        "                                n_iter=75,\n",
        "                                return_train_score=False,\n",
        "                                verbose=1)\n",
        "\n",
        "search05.fit(x0_train, y0_train)\n",
        "\n",
        "# Save the best parameters\n",
        "mnb0 = search05.best_params_\n",
        "print(mnb0)"
      ],
      "execution_count": null,
      "outputs": [
        {
          "output_type": "stream",
          "text": [
            "[Parallel(n_jobs=1)]: Using backend SequentialBackend with 1 concurrent workers.\n"
          ],
          "name": "stderr"
        },
        {
          "output_type": "stream",
          "text": [
            "Fitting 4 folds for each of 75 candidates, totalling 300 fits\n",
            "{'fit_prior': 'False', 'alpha': 1.2499999999999998}\n"
          ],
          "name": "stdout"
        },
        {
          "output_type": "stream",
          "text": [
            "[Parallel(n_jobs=1)]: Done 300 out of 300 | elapsed:   55.2s finished\n"
          ],
          "name": "stderr"
        }
      ]
    },
    {
      "cell_type": "code",
      "metadata": {
        "id": "12dMNdE5STKA",
        "outputId": "7d635f86-3f67-4776-a2b2-4c6c1f2d7a28"
      },
      "source": [
        "# Create the optimal classifier\n",
        "clf05_opt = MultinomialNB(class_prior=None,\n",
        "                            alpha = mnb0['alpha'],\n",
        "                            fit_prior = mnb0['fit_prior'])\n",
        "\n",
        "\n",
        "# Predict on test data\n",
        "clf05_opt.fit(x0_train, y0_train)"
      ],
      "execution_count": null,
      "outputs": [
        {
          "output_type": "execute_result",
          "data": {
            "text/plain": [
              "MultinomialNB(alpha=1.2499999999999998, fit_prior='False')"
            ]
          },
          "metadata": {
            "tags": []
          },
          "execution_count": 55
        }
      ]
    },
    {
      "cell_type": "code",
      "metadata": {
        "id": "2SflVE8YSTKB"
      },
      "source": [
        ""
      ],
      "execution_count": null,
      "outputs": []
    },
    {
      "cell_type": "code",
      "metadata": {
        "id": "qtc00ocFSTKB",
        "outputId": "7704f059-6b23-425b-c34b-69a6f25fe7bb"
      },
      "source": [
        "#after dimension reduction -X1\n",
        "from sklearn.ensemble import RandomForestClassifier\n",
        "from sklearn.model_selection import RandomizedSearchCV\n",
        "clf11 = RandomForestClassifier(criterion='gini',\n",
        "                              n_jobs=-1,\n",
        "                              random_state = 36)\n",
        "param1 = {\"n_estimators\": np.arange(1,500,50).tolist(),\n",
        "          \"max_depth\":np.arange(2,1000,75).tolist(),\n",
        "          \"min_samples_leaf\":np.arange(1,500,50).tolist(),\n",
        "          }\n",
        "\n",
        "search11 = RandomizedSearchCV(clf11, param1, cv = 4,\n",
        "                            n_iter=75, verbose=1)\n",
        "\n",
        "search11.fit(x1_train, y1_train)\n",
        "\n",
        "## Save the parameters \n",
        "RF1 = search11.best_params_\n",
        "print(RF1)"
      ],
      "execution_count": null,
      "outputs": [
        {
          "output_type": "stream",
          "text": [
            "Fitting 4 folds for each of 75 candidates, totalling 300 fits\n"
          ],
          "name": "stdout"
        },
        {
          "output_type": "stream",
          "text": [
            "[Parallel(n_jobs=1)]: Using backend SequentialBackend with 1 concurrent workers.\n",
            "[Parallel(n_jobs=1)]: Done 300 out of 300 | elapsed:  2.9min finished\n"
          ],
          "name": "stderr"
        },
        {
          "output_type": "stream",
          "text": [
            "{'n_estimators': 201, 'min_samples_leaf': 1, 'max_depth': 77}\n"
          ],
          "name": "stdout"
        }
      ]
    },
    {
      "cell_type": "code",
      "metadata": {
        "id": "z4IepPftSTKB",
        "outputId": "0c2f6c94-fdc9-4763-c3c7-11e837a32e01"
      },
      "source": [
        "# Create the optimal classifier\n",
        "clf11_opt = RandomForestClassifier(criterion='gini',\n",
        "                              n_jobs=-1,\n",
        "                              random_state = 36,\n",
        "                              n_estimators = RF1[\"n_estimators\"],\n",
        "                              max_depth = RF1[\"max_depth\"],\n",
        "                              min_samples_leaf = RF1[\"min_samples_leaf\"]\n",
        "                              )\n",
        "\n",
        "# Predict on test data\n",
        "clf11_opt.fit(x1_train, y1_train)"
      ],
      "execution_count": null,
      "outputs": [
        {
          "output_type": "execute_result",
          "data": {
            "text/plain": [
              "RandomForestClassifier(max_depth=77, n_estimators=201, n_jobs=-1,\n",
              "                       random_state=36)"
            ]
          },
          "metadata": {
            "tags": []
          },
          "execution_count": 58
        }
      ]
    },
    {
      "cell_type": "code",
      "metadata": {
        "id": "t9tE37DuSTKC",
        "outputId": "a6a6b93e-19dc-49ea-f1cd-534a67997e06"
      },
      "source": [
        "from sklearn.neighbors import KNeighborsClassifier\n",
        "\n",
        "clf12 = KNeighborsClassifier()\n",
        "\n",
        "param2 = {\n",
        "    \"n_neighbors\": np.arange(2,250,50),\n",
        "    \"weights\": ['uniform','distance'],\n",
        "    \"p\": [1,2],\n",
        "    \"metric\": ['minkowski', 'euclidean','manhattan']}\n",
        "\n",
        "search12 = RandomizedSearchCV(clf12, param2, cv = 4,\n",
        "                                n_iter=75,\n",
        "                                return_train_score=False,\n",
        "                                verbose=1)\n",
        "search12.fit(x1_train, y1_train)\n",
        "\n",
        "# Save the best parameters\n",
        "knn1 = search12.best_params_\n",
        "print(knn1)"
      ],
      "execution_count": null,
      "outputs": [
        {
          "output_type": "stream",
          "text": [
            "Fitting 4 folds for each of 60 candidates, totalling 240 fits\n"
          ],
          "name": "stdout"
        },
        {
          "output_type": "stream",
          "text": [
            "/home/chengeng/anaconda3/lib/python3.8/site-packages/sklearn/model_selection/_search.py:278: UserWarning: The total space of parameters 60 is smaller than n_iter=75. Running 60 iterations. For exhaustive searches, use GridSearchCV.\n",
            "  warnings.warn(\n",
            "[Parallel(n_jobs=1)]: Using backend SequentialBackend with 1 concurrent workers.\n",
            "[Parallel(n_jobs=1)]: Done 240 out of 240 | elapsed: 23.5min finished\n"
          ],
          "name": "stderr"
        },
        {
          "output_type": "stream",
          "text": [
            "{'weights': 'distance', 'p': 1, 'n_neighbors': 202, 'metric': 'minkowski'}\n"
          ],
          "name": "stdout"
        }
      ]
    },
    {
      "cell_type": "code",
      "metadata": {
        "id": "NgjOKBZ_STKC",
        "outputId": "d6cffeef-6fb5-456a-be0c-b4f692397b39"
      },
      "source": [
        "from sklearn.neighbors import KNeighborsClassifier\n",
        "# Create the optimal classifier\n",
        "clf12_opt = KNeighborsClassifier(\n",
        "    n_neighbors= knn1['n_neighbors'],\n",
        "    weights= knn1['weights'],\n",
        "    p= knn1['p'],\n",
        "    metric= knn1['metric']\n",
        "    )\n",
        "\n",
        "\n",
        "# Predict on test data\n",
        "clf12_opt.fit(x1_train, y1_train)"
      ],
      "execution_count": null,
      "outputs": [
        {
          "output_type": "execute_result",
          "data": {
            "text/plain": [
              "KNeighborsClassifier(n_neighbors=202, p=1, weights='distance')"
            ]
          },
          "metadata": {
            "tags": []
          },
          "execution_count": 59
        }
      ]
    },
    {
      "cell_type": "code",
      "metadata": {
        "id": "SpxRwrtbSTKC",
        "outputId": "0ddfbb41-2764-49ce-9f26-28e1a08b21f0"
      },
      "source": [
        "from sklearn.naive_bayes import MultinomialNB\n",
        "from sklearn.model_selection import RandomizedSearchCV\n",
        "\n",
        "# initialize the classifiers\n",
        "clf15 = MultinomialNB(class_prior=None)\n",
        "\n",
        "param5 = {\n",
        "    'alpha': np.arange(0.01, 2, 0.02),\n",
        "    'fit_prior': ['True','False']\n",
        "                }\n",
        "\n",
        "search15 = RandomizedSearchCV(clf15, param5, cv = 4,\n",
        "                                n_iter=75,\n",
        "                                return_train_score=False,\n",
        "                                verbose=1)\n",
        "\n",
        "search15.fit(x1_train, y1_train)\n",
        "\n",
        "# Save the best parameters\n",
        "mnb1 = search15.best_params_\n",
        "print(mnb1)"
      ],
      "execution_count": null,
      "outputs": [
        {
          "output_type": "stream",
          "text": [
            "Fitting 4 folds for each of 75 candidates, totalling 300 fits\n"
          ],
          "name": "stdout"
        },
        {
          "output_type": "stream",
          "text": [
            "[Parallel(n_jobs=1)]: Using backend SequentialBackend with 1 concurrent workers.\n"
          ],
          "name": "stderr"
        },
        {
          "output_type": "stream",
          "text": [
            "{'fit_prior': 'True', 'alpha': 0.30999999999999994}\n"
          ],
          "name": "stdout"
        },
        {
          "output_type": "stream",
          "text": [
            "[Parallel(n_jobs=1)]: Done 300 out of 300 | elapsed:   14.6s finished\n"
          ],
          "name": "stderr"
        }
      ]
    },
    {
      "cell_type": "code",
      "metadata": {
        "id": "tN9VkJyPSTKD",
        "outputId": "d55176b4-b7dc-4794-97b6-206b1d6db102"
      },
      "source": [
        "# Create the optimal classifier\n",
        "clf15_opt = MultinomialNB(class_prior=None,\n",
        "                            alpha = mnb1['alpha'],\n",
        "                            fit_prior = mnb1['fit_prior'])\n",
        "\n",
        "\n",
        "# Predict on test data\n",
        "clf15_opt.fit(x1_train, y1_train)"
      ],
      "execution_count": null,
      "outputs": [
        {
          "output_type": "execute_result",
          "data": {
            "text/plain": [
              "MultinomialNB(alpha=0.30999999999999994, fit_prior='True')"
            ]
          },
          "metadata": {
            "tags": []
          },
          "execution_count": 79
        }
      ]
    },
    {
      "cell_type": "code",
      "metadata": {
        "id": "-1Vt5N4hSTKD"
      },
      "source": [
        ""
      ],
      "execution_count": null,
      "outputs": []
    },
    {
      "cell_type": "code",
      "metadata": {
        "scrolled": true,
        "id": "J3YqAIS7STKD",
        "outputId": "f17077ce-8030-45eb-ce08-1d426163d1a3"
      },
      "source": [
        "#after dimension reduction -X2\n",
        "\n",
        "clf21 = RandomForestClassifier(criterion='gini',\n",
        "                              n_jobs=-1,\n",
        "                              random_state = 36)\n",
        "param1 = {\"n_estimators\": np.arange(1,500,50).tolist(),\n",
        "          \"max_depth\":np.arange(2,1000,75).tolist(),\n",
        "          \"min_samples_leaf\":np.arange(1,500,50).tolist(),\n",
        "          }\n",
        "\n",
        "search21 = RandomizedSearchCV(clf21, param1, cv = 4,\n",
        "                            n_iter=75, verbose=1)\n",
        "\n",
        "search21.fit(x2_train, y2_train)\n",
        "\n",
        "## Save the parameters \n",
        "RF2 = search21.best_params_\n",
        "print(RF2)"
      ],
      "execution_count": null,
      "outputs": [
        {
          "output_type": "stream",
          "text": [
            "Fitting 4 folds for each of 75 candidates, totalling 300 fits\n"
          ],
          "name": "stdout"
        },
        {
          "output_type": "stream",
          "text": [
            "[Parallel(n_jobs=1)]: Using backend SequentialBackend with 1 concurrent workers.\n",
            "[Parallel(n_jobs=1)]: Done 300 out of 300 | elapsed:  2.8min finished\n"
          ],
          "name": "stderr"
        },
        {
          "output_type": "stream",
          "text": [
            "{'n_estimators': 351, 'min_samples_leaf': 1, 'max_depth': 527}\n"
          ],
          "name": "stdout"
        }
      ]
    },
    {
      "cell_type": "code",
      "metadata": {
        "id": "HhxOKKbHSTKD",
        "outputId": "4df95fc1-f6a0-453a-938f-7182b1ebdbcb"
      },
      "source": [
        "# Create the optimal classifier\n",
        "clf21_opt = RandomForestClassifier(criterion='gini',\n",
        "                              n_jobs=-1,\n",
        "                              random_state = 36,\n",
        "                              n_estimators = RF2[\"n_estimators\"],\n",
        "                              max_depth = RF2[\"max_depth\"],\n",
        "                              min_samples_leaf = RF2[\"min_samples_leaf\"]\n",
        "                              )\n",
        "\n",
        "# Predict on test data\n",
        "clf21_opt.fit(x2_train, y2_train)"
      ],
      "execution_count": null,
      "outputs": [
        {
          "output_type": "execute_result",
          "data": {
            "text/plain": [
              "RandomForestClassifier(max_depth=527, n_estimators=351, n_jobs=-1,\n",
              "                       random_state=36)"
            ]
          },
          "metadata": {
            "tags": []
          },
          "execution_count": 61
        }
      ]
    },
    {
      "cell_type": "code",
      "metadata": {
        "id": "QCOEe1qBSTKE",
        "outputId": "a831b065-6185-4ef2-bcad-d7ffe1e26e77"
      },
      "source": [
        "clf22 = KNeighborsClassifier()\n",
        "\n",
        "param2 = {\n",
        "    \"n_neighbors\": np.arange(2,250,50),\n",
        "    \"weights\": ['uniform','distance'],\n",
        "    \"p\": [1,2],\n",
        "    \"metric\": ['minkowski', 'euclidean','manhattan']}\n",
        "\n",
        "search22 = RandomizedSearchCV(clf22, param2, cv = 4,\n",
        "                                n_iter=75,\n",
        "                                return_train_score=False,\n",
        "                                verbose=1)\n",
        "search22.fit(x2_train, y2_train)\n",
        "\n",
        "# Save the best parameters\n",
        "knn2 = search22.best_params_\n",
        "print(knn2)"
      ],
      "execution_count": null,
      "outputs": [
        {
          "output_type": "stream",
          "text": [
            "Fitting 4 folds for each of 60 candidates, totalling 240 fits\n"
          ],
          "name": "stdout"
        },
        {
          "output_type": "stream",
          "text": [
            "/home/chengeng/anaconda3/lib/python3.8/site-packages/sklearn/model_selection/_search.py:278: UserWarning: The total space of parameters 60 is smaller than n_iter=75. Running 60 iterations. For exhaustive searches, use GridSearchCV.\n",
            "  warnings.warn(\n",
            "[Parallel(n_jobs=1)]: Using backend SequentialBackend with 1 concurrent workers.\n",
            "[Parallel(n_jobs=1)]: Done 240 out of 240 | elapsed: 23.5min finished\n"
          ],
          "name": "stderr"
        },
        {
          "output_type": "stream",
          "text": [
            "{'weights': 'distance', 'p': 1, 'n_neighbors': 52, 'metric': 'minkowski'}\n"
          ],
          "name": "stdout"
        }
      ]
    },
    {
      "cell_type": "code",
      "metadata": {
        "id": "AITj5lE-STKE",
        "outputId": "7b75a702-8bf7-4c40-e0f4-8ff887f36e69"
      },
      "source": [
        "# Create the optimal classifier\n",
        "clf22_opt = KNeighborsClassifier(\n",
        "    n_neighbors= knn2['n_neighbors'],\n",
        "    weights= knn2['weights'],\n",
        "    p= knn2['p'],\n",
        "    metric= knn2['metric']\n",
        "    )\n",
        "\n",
        "\n",
        "# Predict on test data\n",
        "clf22_opt.fit(x2_train, y2_train)"
      ],
      "execution_count": null,
      "outputs": [
        {
          "output_type": "execute_result",
          "data": {
            "text/plain": [
              "KNeighborsClassifier(n_neighbors=52, p=1, weights='distance')"
            ]
          },
          "metadata": {
            "tags": []
          },
          "execution_count": 62
        }
      ]
    },
    {
      "cell_type": "code",
      "metadata": {
        "id": "pCSuMQ_GSTKE",
        "outputId": "88b19c98-225e-4493-f861-93c4354f7eeb"
      },
      "source": [
        "# initialize the classifiers\n",
        "clf25 = MultinomialNB(class_prior=None)\n",
        "\n",
        "param5 = {\n",
        "    'alpha': np.arange(0.01, 2, 0.02),\n",
        "    'fit_prior': ['True','False']\n",
        "                }\n",
        "\n",
        "search25 = RandomizedSearchCV(clf25, param5, cv = 4,\n",
        "                                n_iter=75,\n",
        "                                return_train_score=False,\n",
        "                                verbose=1)\n",
        "\n",
        "search25.fit(x2_train, y2_train)\n",
        "\n",
        "# Save the best parameters\n",
        "mnb2 = search25.best_params_\n",
        "print(mnb2)"
      ],
      "execution_count": null,
      "outputs": [
        {
          "output_type": "stream",
          "text": [
            "[Parallel(n_jobs=1)]: Using backend SequentialBackend with 1 concurrent workers.\n"
          ],
          "name": "stderr"
        },
        {
          "output_type": "stream",
          "text": [
            "Fitting 4 folds for each of 75 candidates, totalling 300 fits\n",
            "{'fit_prior': 'False', 'alpha': 1.8699999999999997}\n"
          ],
          "name": "stdout"
        },
        {
          "output_type": "stream",
          "text": [
            "[Parallel(n_jobs=1)]: Done 300 out of 300 | elapsed:   14.5s finished\n"
          ],
          "name": "stderr"
        }
      ]
    },
    {
      "cell_type": "code",
      "metadata": {
        "id": "CWbe3hySSTKF",
        "outputId": "236c7e63-ce7d-426b-f75f-52bfbec37d5a"
      },
      "source": [
        "# Create the optimal classifier\n",
        "clf25_opt = MultinomialNB(class_prior=None,\n",
        "                            alpha = mnb2['alpha'],\n",
        "                            fit_prior = mnb2['fit_prior'])\n",
        "\n",
        "\n",
        "# Predict on test data\n",
        "clf25_opt.fit(x2_train, y2_train)"
      ],
      "execution_count": null,
      "outputs": [
        {
          "output_type": "execute_result",
          "data": {
            "text/plain": [
              "MultinomialNB(alpha=1.8699999999999997, fit_prior='False')"
            ]
          },
          "metadata": {
            "tags": []
          },
          "execution_count": 78
        }
      ]
    },
    {
      "cell_type": "code",
      "metadata": {
        "id": "fXOa2fJMSTKF"
      },
      "source": [
        ""
      ],
      "execution_count": null,
      "outputs": []
    },
    {
      "cell_type": "code",
      "metadata": {
        "id": "yPUrBQoQSTKF"
      },
      "source": [
        ""
      ],
      "execution_count": null,
      "outputs": []
    },
    {
      "cell_type": "code",
      "metadata": {
        "id": "6Jk7g_NLSTKF"
      },
      "source": [
        ""
      ],
      "execution_count": null,
      "outputs": []
    },
    {
      "cell_type": "code",
      "metadata": {
        "id": "cz-qS_UESTKG"
      },
      "source": [
        ""
      ],
      "execution_count": null,
      "outputs": []
    },
    {
      "cell_type": "code",
      "metadata": {
        "id": "Lek1jg7iSTKG"
      },
      "source": [
        ""
      ],
      "execution_count": null,
      "outputs": []
    },
    {
      "cell_type": "code",
      "metadata": {
        "id": "nzNRMOjxSTKG"
      },
      "source": [
        "#averaging 3 layers"
      ],
      "execution_count": null,
      "outputs": []
    },
    {
      "cell_type": "code",
      "metadata": {
        "id": "80c6k0guSTKG",
        "outputId": "eeba4707-9bbb-4f76-d3ff-548216b203c1"
      },
      "source": [
        "from sklearn.ensemble import RandomForestClassifier\n",
        "clf31 = RandomForestClassifier(criterion='gini',\n",
        "                              n_jobs=-1,\n",
        "                              random_state = 36)\n",
        "\n",
        "param1 = {\"n_estimators\": np.arange(1,500,50).tolist(),\n",
        "          \"max_depth\":np.arange(2,1000,75).tolist(),\n",
        "          \"min_samples_leaf\":np.arange(1,500,50).tolist(),\n",
        "          }\n",
        "\n",
        "search31 = RandomizedSearchCV(clf31, param1, cv = 4,\n",
        "                            n_iter=75, verbose=1)\n",
        "\n",
        "search31.fit(x3_train, y3_train)\n",
        "\n",
        "# Save the parameters\n",
        "RF3 = search31.best_params_\n",
        "print(RF3)"
      ],
      "execution_count": null,
      "outputs": [
        {
          "output_type": "stream",
          "text": [
            "Fitting 4 folds for each of 75 candidates, totalling 300 fits\n"
          ],
          "name": "stdout"
        },
        {
          "output_type": "stream",
          "text": [
            "[Parallel(n_jobs=1)]: Using backend SequentialBackend with 1 concurrent workers.\n",
            "[Parallel(n_jobs=1)]: Done 300 out of 300 | elapsed:  3.0min finished\n"
          ],
          "name": "stderr"
        },
        {
          "output_type": "stream",
          "text": [
            "{'n_estimators': 451, 'min_samples_leaf': 1, 'max_depth': 902}\n"
          ],
          "name": "stdout"
        }
      ]
    },
    {
      "cell_type": "code",
      "metadata": {
        "id": "S2-ycMbrSTKG",
        "outputId": "a3421107-e007-4970-a918-3a5613005210"
      },
      "source": [
        "# Create the optimal classifier\n",
        "from sklearn.ensemble import RandomForestClassifier\n",
        "clf31_opt = RandomForestClassifier(criterion='gini',\n",
        "                              n_jobs=-1,\n",
        "                              random_state = 36,\n",
        "                              n_estimators = RF3['n_estimators'], \n",
        "                              max_depth = RF3['max_depth'], \n",
        "                              min_samples_leaf = RF3['min_samples_leaf'], \n",
        "                              )\n",
        "\n",
        "# Predict on test data\n",
        "clf31_opt.fit(x3_train, y3_train)"
      ],
      "execution_count": null,
      "outputs": [
        {
          "output_type": "execute_result",
          "data": {
            "text/plain": [
              "RandomForestClassifier(max_depth=902, n_estimators=451, n_jobs=-1,\n",
              "                       random_state=36)"
            ]
          },
          "metadata": {
            "tags": []
          },
          "execution_count": 65
        }
      ]
    },
    {
      "cell_type": "code",
      "metadata": {
        "id": "WYSTEiZUSTKH",
        "outputId": "85f19af3-403b-401e-86ec-be4a90776516"
      },
      "source": [
        "clf32 = KNeighborsClassifier()\n",
        "\n",
        "param2 = {\n",
        "    \"n_neighbors\": np.arange(2,250,50),\n",
        "    \"weights\": ['uniform','distance'],\n",
        "    \"p\": [1,2],\n",
        "    \"metric\": ['minkowski', 'euclidean','manhattan']}\n",
        "\n",
        "search32 = RandomizedSearchCV(clf32, param2, cv = 4,\n",
        "                                n_iter=75,\n",
        "                                return_train_score=False,\n",
        "                                verbose=1)\n",
        "search32.fit(x3_train, y3_train)\n",
        "\n",
        "# Save the best parameters\n",
        "knn3 = search32.best_params_\n",
        "print(knn3)"
      ],
      "execution_count": null,
      "outputs": [
        {
          "output_type": "stream",
          "text": [
            "/home/chengeng/anaconda3/lib/python3.8/site-packages/sklearn/model_selection/_search.py:278: UserWarning: The total space of parameters 60 is smaller than n_iter=75. Running 60 iterations. For exhaustive searches, use GridSearchCV.\n",
            "  warnings.warn(\n",
            "[Parallel(n_jobs=1)]: Using backend SequentialBackend with 1 concurrent workers.\n"
          ],
          "name": "stderr"
        },
        {
          "output_type": "stream",
          "text": [
            "Fitting 4 folds for each of 60 candidates, totalling 240 fits\n"
          ],
          "name": "stdout"
        },
        {
          "output_type": "stream",
          "text": [
            "[Parallel(n_jobs=1)]: Done 240 out of 240 | elapsed: 31.3min finished\n"
          ],
          "name": "stderr"
        },
        {
          "output_type": "stream",
          "text": [
            "{'weights': 'distance', 'p': 1, 'n_neighbors': 52, 'metric': 'minkowski'}\n"
          ],
          "name": "stdout"
        }
      ]
    },
    {
      "cell_type": "code",
      "metadata": {
        "id": "GXkYobebSTKH",
        "outputId": "e9c639d2-51ee-4028-f347-8c8403c293a2"
      },
      "source": [
        "# Create the optimal classifier\n",
        "clf32_opt = KNeighborsClassifier(\n",
        "            n_neighbors= knn3['n_neighbors'],\n",
        "            weights= knn3['weights'], \n",
        "            p= knn3['p'], \n",
        "            metric= knn3['metric'] \n",
        "    )\n",
        "\n",
        "\n",
        "# Predict on test data\n",
        "clf32_opt.fit(x3_train, y3_train)"
      ],
      "execution_count": null,
      "outputs": [
        {
          "output_type": "execute_result",
          "data": {
            "text/plain": [
              "KNeighborsClassifier(n_neighbors=52, p=1, weights='distance')"
            ]
          },
          "metadata": {
            "tags": []
          },
          "execution_count": 68
        }
      ]
    },
    {
      "cell_type": "code",
      "metadata": {
        "scrolled": true,
        "id": "z1ckdRtlSTKH",
        "outputId": "9dd819c5-79b8-46a4-a6cb-a14ac022c6b1"
      },
      "source": [
        "# initialize the classifiers\n",
        "clf35 = MultinomialNB(class_prior=None)\n",
        "\n",
        "param5 = {\n",
        "    'alpha': np.arange(0.01, 2, 0.02),\n",
        "    'fit_prior': ['True','False']\n",
        "                }\n",
        "\n",
        "search35 = RandomizedSearchCV(clf35, param5, cv = 4,\n",
        "                                n_iter=75,\n",
        "                                return_train_score=False,\n",
        "                                verbose=1)\n",
        "\n",
        "search35.fit(x3_train, y3_train)\n",
        "\n",
        "# Save the best parameters\n",
        "mnb3 = search35.best_params_\n",
        "print(mnb3)"
      ],
      "execution_count": null,
      "outputs": [
        {
          "output_type": "stream",
          "text": [
            "Fitting 4 folds for each of 75 candidates, totalling 300 fits\n"
          ],
          "name": "stdout"
        },
        {
          "output_type": "stream",
          "text": [
            "[Parallel(n_jobs=1)]: Using backend SequentialBackend with 1 concurrent workers.\n"
          ],
          "name": "stderr"
        },
        {
          "output_type": "stream",
          "text": [
            "{'fit_prior': 'False', 'alpha': 0.6699999999999999}\n"
          ],
          "name": "stdout"
        },
        {
          "output_type": "stream",
          "text": [
            "[Parallel(n_jobs=1)]: Done 300 out of 300 | elapsed:   17.6s finished\n"
          ],
          "name": "stderr"
        }
      ]
    },
    {
      "cell_type": "code",
      "metadata": {
        "id": "p35mloEiSTKH",
        "outputId": "7a0ca954-307f-4e2d-cc96-7b8147ebdf92"
      },
      "source": [
        "# Create the optimal classifier\n",
        "clf35_opt = MultinomialNB(class_prior=None,\n",
        "                            alpha = mnb3['alpha'],\n",
        "                            fit_prior = mnb3['fit_prior'])\n",
        "\n",
        "\n",
        "# Predict on test data\n",
        "clf35_opt.fit(x3_train, y3_train)"
      ],
      "execution_count": null,
      "outputs": [
        {
          "output_type": "execute_result",
          "data": {
            "text/plain": [
              "MultinomialNB(alpha=0.6699999999999999, fit_prior='False')"
            ]
          },
          "metadata": {
            "tags": []
          },
          "execution_count": 69
        }
      ]
    },
    {
      "cell_type": "code",
      "metadata": {
        "id": "50dnoM-CSTKI"
      },
      "source": [
        ""
      ],
      "execution_count": null,
      "outputs": []
    },
    {
      "cell_type": "code",
      "metadata": {
        "id": "92kaBeHBSTKI"
      },
      "source": [
        "y0pred1 = clf01_opt.predict(x0_test)\n",
        "y0pred2 = clf02_opt.predict(x0_test)\n",
        "y0pred5 = clf05_opt.predict(x0_test)"
      ],
      "execution_count": null,
      "outputs": []
    },
    {
      "cell_type": "code",
      "metadata": {
        "id": "bz4WKMBqSTKI",
        "outputId": "0a9a2449-ab34-4b89-8a9c-d231351a3234"
      },
      "source": [
        "from sklearn.metrics import accuracy_score, precision_score, recall_score, confusion_matrix\n",
        "print(accuracy_score(y0_test,y0pred1),\n",
        "      accuracy_score(y0_test,y0pred2),\n",
        "      accuracy_score(y0_test,y0pred5))\n",
        "\n",
        "print(precision_score(y0_test,y0pred1),\n",
        "      precision_score(y0_test,y0pred2),\n",
        "      precision_score(y0_test,y0pred5))"
      ],
      "execution_count": null,
      "outputs": [
        {
          "output_type": "stream",
          "text": [
            "0.802 0.732 0.596\n",
            "0.7725631768953068 0.6823899371069182 0.603448275862069\n"
          ],
          "name": "stdout"
        }
      ]
    },
    {
      "cell_type": "code",
      "metadata": {
        "id": "HwWz0DgJSTKI"
      },
      "source": [
        "y1pred1 = clf11_opt.predict(x1_test)\n",
        "y1pred2 = clf12_opt.predict(x1_test)\n",
        "y1pred5 = clf15_opt.predict(x1_test)"
      ],
      "execution_count": null,
      "outputs": []
    },
    {
      "cell_type": "code",
      "metadata": {
        "id": "iWDbuKnBSTKI",
        "outputId": "37be395a-dd1b-4809-ddff-db1683f050a8"
      },
      "source": [
        "from sklearn.metrics import accuracy_score, precision_score, recall_score, confusion_matrix\n",
        "print(accuracy_score(y1_test,y1pred1),\n",
        "      accuracy_score(y1_test,y1pred2),\n",
        "      accuracy_score(y1_test,y1pred5))\n",
        "\n",
        "print(precision_score(y1_test,y1pred1),\n",
        "      precision_score(y1_test,y1pred2),\n",
        "      precision_score(y1_test,y1pred5))"
      ],
      "execution_count": null,
      "outputs": [
        {
          "output_type": "stream",
          "text": [
            "0.778 0.636 0.62\n",
            "0.7473309608540926 0.6268656716417911 0.6401869158878505\n"
          ],
          "name": "stdout"
        }
      ]
    },
    {
      "cell_type": "code",
      "metadata": {
        "id": "ogvbLjH4STKJ"
      },
      "source": [
        "y2pred1 = clf21_opt.predict(x2_test)\n",
        "y2pred2 = clf22_opt.predict(x2_test)\n",
        "y2pred5 = clf25_opt.predict(x2_test)"
      ],
      "execution_count": null,
      "outputs": []
    },
    {
      "cell_type": "code",
      "metadata": {
        "id": "4yOMp7y1STKJ",
        "outputId": "7e9f8584-3349-450d-a17b-d3f47d4b5461"
      },
      "source": [
        "from sklearn.metrics import accuracy_score, precision_score, recall_score, confusion_matrix\n",
        "print(accuracy_score(y2_test,y2pred1),\n",
        "      accuracy_score(y2_test,y2pred2),\n",
        "      accuracy_score(y2_test,y2pred5))\n",
        "\n",
        "print(precision_score(y2_test,y2pred1),\n",
        "      precision_score(y2_test,y2pred2),\n",
        "      precision_score(y2_test,y2pred5))"
      ],
      "execution_count": null,
      "outputs": [
        {
          "output_type": "stream",
          "text": [
            "0.808 0.746 0.592\n",
            "0.7730496453900709 0.6880733944954128 0.5982905982905983\n"
          ],
          "name": "stdout"
        }
      ]
    },
    {
      "cell_type": "code",
      "metadata": {
        "id": "fteO0LfTSTKM"
      },
      "source": [
        "y3pred1 = clf31_opt.predict(x3_test)\n",
        "y3pred2 = clf32_opt.predict(x3_test)\n",
        "y3pred5 = clf35_opt.predict(x3_test)"
      ],
      "execution_count": null,
      "outputs": []
    },
    {
      "cell_type": "code",
      "metadata": {
        "id": "oFnjHBUcSTKM",
        "outputId": "4415969d-74bc-43f9-8609-9066f1d9844f"
      },
      "source": [
        "from sklearn.metrics import accuracy_score, precision_score, recall_score, confusion_matrix\n",
        "print(accuracy_score(y3_test,y3pred1),\n",
        "      accuracy_score(y3_test,y3pred2),\n",
        "      accuracy_score(y3_test,y3pred5))\n",
        "\n",
        "print(precision_score(y3_test,y3pred1),\n",
        "      precision_score(y3_test,y3pred2),\n",
        "      precision_score(y3_test,y3pred5))"
      ],
      "execution_count": null,
      "outputs": [
        {
          "output_type": "stream",
          "text": [
            "0.802 0.72 0.532\n",
            "0.7915057915057915 0.6697530864197531 0.5298507462686567\n"
          ],
          "name": "stdout"
        }
      ]
    },
    {
      "cell_type": "code",
      "metadata": {
        "id": "5mzF6ltISTKM",
        "outputId": "f97f396b-f9ad-4363-b59e-87c7f6e3a4fc"
      },
      "source": [
        "x1_train.shape"
      ],
      "execution_count": null,
      "outputs": [
        {
          "output_type": "execute_result",
          "data": {
            "text/plain": [
              "(1600, 6912)"
            ]
          },
          "metadata": {
            "tags": []
          },
          "execution_count": 72
        }
      ]
    },
    {
      "cell_type": "code",
      "metadata": {
        "id": "OrXefMmhSTKM"
      },
      "source": [
        ""
      ],
      "execution_count": null,
      "outputs": []
    },
    {
      "cell_type": "code",
      "metadata": {
        "id": "8KXjdgApSTKM"
      },
      "source": [
        ""
      ],
      "execution_count": null,
      "outputs": []
    },
    {
      "cell_type": "code",
      "metadata": {
        "id": "dqI26EwjSTKN"
      },
      "source": [
        ""
      ],
      "execution_count": null,
      "outputs": []
    },
    {
      "cell_type": "markdown",
      "metadata": {
        "id": "uBl7UJtoSTKN"
      },
      "source": [
        "Correction: Ranges for parameter searching and possible overfitting issue.\n",
        "**These issues were raised during the presentation. After presentation, we carefully reconsidered the hyperparameter search ranges of min_samples_leaf and max depth, reset them for new searches to avoid possible overfitting problem brought by random forest classifier**\n"
      ]
    },
    {
      "cell_type": "code",
      "metadata": {
        "id": "lUxQuvYnSTKN"
      },
      "source": [
        "# RF, updated search range1\n",
        "# try to reduce the max depth and modify the range for min samples per leaf to see if the accuracy \n",
        "# on the test data improves"
      ],
      "execution_count": null,
      "outputs": []
    },
    {
      "cell_type": "code",
      "metadata": {
        "scrolled": false,
        "id": "EUvVT9yGSTKN",
        "outputId": "2197cc2c-7ff6-46d3-9747-cd39a861be6a"
      },
      "source": [
        "from sklearn.ensemble import RandomForestClassifier\n",
        "from sklearn.model_selection import RandomizedSearchCV\n",
        "\n",
        "clf01_new = RandomForestClassifier(criterion='gini',\n",
        "                              n_jobs=-1,\n",
        "                              random_state = 36)\n",
        "param1_new = {\"n_estimators\": np.arange(1,500,50).tolist(),\n",
        "          \"max_depth\":np.arange(2,500,100).tolist(),        # reduced\n",
        "          \"min_samples_leaf\":np.arange(1,50,6).tolist(),    # adjusted\n",
        "          }\n",
        "\n",
        "search01_new = RandomizedSearchCV(clf01_new, param1_new, cv = 4,\n",
        "                            n_iter=100, verbose=1)\n",
        "\n",
        "search01_new.fit(x0_train, y0_train)\n",
        "\n",
        "## Save the parameters \n",
        "RF0_new = search01_new.best_params_\n",
        "print(RF0_new)"
      ],
      "execution_count": null,
      "outputs": [
        {
          "output_type": "stream",
          "text": [
            "Fitting 4 folds for each of 100 candidates, totalling 400 fits\n"
          ],
          "name": "stdout"
        },
        {
          "output_type": "stream",
          "text": [
            "[Parallel(n_jobs=1)]: Using backend SequentialBackend with 1 concurrent workers.\n",
            "[Parallel(n_jobs=1)]: Done 400 out of 400 | elapsed:  8.6min finished\n"
          ],
          "name": "stderr"
        },
        {
          "output_type": "stream",
          "text": [
            "{'n_estimators': 301, 'min_samples_leaf': 7, 'max_depth': 402}\n"
          ],
          "name": "stdout"
        }
      ]
    },
    {
      "cell_type": "code",
      "metadata": {
        "id": "5q8pteF0STKN",
        "outputId": "9eba6df3-19e9-4072-cbb3-a49f6d0d075b"
      },
      "source": [
        "# Create the optimal classifier\n",
        "clf01_new_opt = RandomForestClassifier(criterion='gini',\n",
        "                              n_jobs=-1,\n",
        "                              random_state = 36,\n",
        "                              n_estimators = RF0_new[\"n_estimators\"],\n",
        "                              max_depth = RF0_new[\"max_depth\"],\n",
        "                              min_samples_leaf = RF0_new[\"min_samples_leaf\"]\n",
        "                              )\n",
        "\n",
        "# Predict on test data\n",
        "clf01_new_opt.fit(x0_train, y0_train)"
      ],
      "execution_count": null,
      "outputs": [
        {
          "output_type": "execute_result",
          "data": {
            "text/plain": [
              "RandomForestClassifier(max_depth=402, min_samples_leaf=7, n_estimators=301,\n",
              "                       n_jobs=-1, random_state=36)"
            ]
          },
          "metadata": {
            "tags": []
          },
          "execution_count": 97
        }
      ]
    },
    {
      "cell_type": "code",
      "metadata": {
        "id": "HgFcg122STKO",
        "outputId": "203ba037-7076-4826-8040-3ae343e02358"
      },
      "source": [
        "from sklearn.ensemble import RandomForestClassifier\n",
        "from sklearn.model_selection import RandomizedSearchCV\n",
        "\n",
        "clf11_new = RandomForestClassifier(criterion='gini',\n",
        "                              n_jobs=-1,\n",
        "                              random_state = 36)\n",
        "param1_new = {\"n_estimators\": np.arange(1,500,50).tolist(),\n",
        "          \"max_depth\":np.arange(2,500,100).tolist(),        # reduced\n",
        "          \"min_samples_leaf\":np.arange(1,50,6).tolist(),    # adjusted\n",
        "          }\n",
        "\n",
        "search11_new = RandomizedSearchCV(clf11_new, param1_new, cv = 4,\n",
        "                            n_iter=100, verbose=1)\n",
        "\n",
        "search11_new.fit(x1_train, y1_train)\n",
        "\n",
        "## Save the parameters \n",
        "RF1_new = search11_new.best_params_\n",
        "print(RF1_new)\n"
      ],
      "execution_count": null,
      "outputs": [
        {
          "output_type": "stream",
          "text": [
            "Fitting 4 folds for each of 100 candidates, totalling 400 fits\n"
          ],
          "name": "stdout"
        },
        {
          "output_type": "stream",
          "text": [
            "[Parallel(n_jobs=1)]: Using backend SequentialBackend with 1 concurrent workers.\n",
            "[Parallel(n_jobs=1)]: Done 400 out of 400 | elapsed:  3.7min finished\n"
          ],
          "name": "stderr"
        },
        {
          "output_type": "stream",
          "text": [
            "{'n_estimators': 251, 'min_samples_leaf': 7, 'max_depth': 302}\n"
          ],
          "name": "stdout"
        }
      ]
    },
    {
      "cell_type": "code",
      "metadata": {
        "id": "oo1C3ljGSTKO",
        "outputId": "9eb7f00d-25fd-40b6-fd13-0f7826f5ed3b"
      },
      "source": [
        "# Create the optimal classifier\n",
        "clf11_new_opt = RandomForestClassifier(criterion='gini',\n",
        "                              n_jobs=-1,\n",
        "                              random_state = 36,\n",
        "                              n_estimators = RF1_new[\"n_estimators\"],\n",
        "                              max_depth = RF1_new[\"max_depth\"],\n",
        "                              min_samples_leaf = RF1_new[\"min_samples_leaf\"]\n",
        "                              )\n",
        "\n",
        "# Predict on test data\n",
        "clf11_new_opt.fit(x1_train, y1_train)"
      ],
      "execution_count": null,
      "outputs": [
        {
          "output_type": "execute_result",
          "data": {
            "text/plain": [
              "RandomForestClassifier(max_depth=302, min_samples_leaf=7, n_estimators=251,\n",
              "                       n_jobs=-1, random_state=36)"
            ]
          },
          "metadata": {
            "tags": []
          },
          "execution_count": 99
        }
      ]
    },
    {
      "cell_type": "code",
      "metadata": {
        "scrolled": true,
        "id": "lYa-xBvVSTKO",
        "outputId": "e92f972d-e6f1-40dd-e58b-74180940d5b7"
      },
      "source": [
        "from sklearn.ensemble import RandomForestClassifier\n",
        "from sklearn.model_selection import RandomizedSearchCV\n",
        "\n",
        "clf21_new = RandomForestClassifier(criterion='gini',\n",
        "                              n_jobs=-1,\n",
        "                              random_state = 36)\n",
        "param1_new = {\"n_estimators\": np.arange(1,500,50).tolist(),\n",
        "          \"max_depth\":np.arange(2,500,100).tolist(),        # reduced\n",
        "          \"min_samples_leaf\":np.arange(1,50,6).tolist(),    # adjusted\n",
        "          }\n",
        "\n",
        "search21_new = RandomizedSearchCV(clf21_new, param1_new, cv = 4,\n",
        "                            n_iter=100, verbose=1)\n",
        "\n",
        "search21_new.fit(x2_train, y2_train)\n",
        "\n",
        "## Save the parameters \n",
        "RF2_new = search21_new.best_params_\n",
        "print(RF2_new)"
      ],
      "execution_count": null,
      "outputs": [
        {
          "output_type": "stream",
          "text": [
            "Fitting 4 folds for each of 100 candidates, totalling 400 fits\n"
          ],
          "name": "stdout"
        },
        {
          "output_type": "stream",
          "text": [
            "[Parallel(n_jobs=1)]: Using backend SequentialBackend with 1 concurrent workers.\n",
            "[Parallel(n_jobs=1)]: Done 400 out of 400 | elapsed:  4.1min finished\n"
          ],
          "name": "stderr"
        },
        {
          "output_type": "stream",
          "text": [
            "{'n_estimators': 351, 'min_samples_leaf': 1, 'max_depth': 302}\n"
          ],
          "name": "stdout"
        }
      ]
    },
    {
      "cell_type": "code",
      "metadata": {
        "id": "KicLTH4USTKP",
        "outputId": "34174e47-9a60-4775-b2fd-f889001b394e"
      },
      "source": [
        "# Create the optimal classifier\n",
        "clf21_new_opt = RandomForestClassifier(criterion='gini',\n",
        "                              n_jobs=-1,\n",
        "                              random_state = 36,\n",
        "                              n_estimators = RF2_new[\"n_estimators\"],\n",
        "                              max_depth = RF2_new[\"max_depth\"],\n",
        "                              min_samples_leaf = RF2_new[\"min_samples_leaf\"]\n",
        "                              )\n",
        "\n",
        "# Predict on test data\n",
        "clf21_new_opt.fit(x2_train, y2_train)"
      ],
      "execution_count": null,
      "outputs": [
        {
          "output_type": "execute_result",
          "data": {
            "text/plain": [
              "RandomForestClassifier(max_depth=302, n_estimators=351, n_jobs=-1,\n",
              "                       random_state=36)"
            ]
          },
          "metadata": {
            "tags": []
          },
          "execution_count": 101
        }
      ]
    },
    {
      "cell_type": "code",
      "metadata": {
        "id": "-2sYBqJ6STKP",
        "outputId": "41005b9d-ffb1-402c-f6a2-80b78cc725ed"
      },
      "source": [
        "from sklearn.ensemble import RandomForestClassifier\n",
        "from sklearn.model_selection import RandomizedSearchCV\n",
        "\n",
        "clf31_new = RandomForestClassifier(criterion='gini',\n",
        "                              n_jobs=-1,\n",
        "                              random_state = 36)\n",
        "param1_new = {\"n_estimators\": np.arange(1,500,50).tolist(),\n",
        "          \"max_depth\":np.arange(2,500,100).tolist(),        # reduced\n",
        "          \"min_samples_leaf\":np.arange(1,50,6).tolist(),    # adjusted\n",
        "          }\n",
        "\n",
        "search31_new = RandomizedSearchCV(clf31_new, param1_new, cv = 4,\n",
        "                            n_iter=100, verbose=1)\n",
        "\n",
        "search31_new.fit(x3_train, y3_train)\n",
        "\n",
        "## Save the parameters \n",
        "RF3_new = search31_new.best_params_\n",
        "print(RF3_new)"
      ],
      "execution_count": null,
      "outputs": [
        {
          "output_type": "stream",
          "text": [
            "Fitting 4 folds for each of 100 candidates, totalling 400 fits\n"
          ],
          "name": "stdout"
        },
        {
          "output_type": "stream",
          "text": [
            "[Parallel(n_jobs=1)]: Using backend SequentialBackend with 1 concurrent workers.\n",
            "[Parallel(n_jobs=1)]: Done 400 out of 400 | elapsed:  4.8min finished\n"
          ],
          "name": "stderr"
        },
        {
          "output_type": "stream",
          "text": [
            "{'n_estimators': 201, 'min_samples_leaf': 13, 'max_depth': 402}\n"
          ],
          "name": "stdout"
        }
      ]
    },
    {
      "cell_type": "code",
      "metadata": {
        "id": "SZBdJigESTKP",
        "outputId": "8f0f8e8f-2e8a-4f2b-bb0c-9542c2cd2c4c"
      },
      "source": [
        "# Create the optimal classifier\n",
        "clf31_new_opt = RandomForestClassifier(criterion='gini',\n",
        "                              n_jobs=-1,\n",
        "                              random_state = 36,\n",
        "                              n_estimators = RF3_new[\"n_estimators\"],\n",
        "                              max_depth = RF3_new[\"max_depth\"],\n",
        "                              min_samples_leaf = RF3_new[\"min_samples_leaf\"]\n",
        "                              )\n",
        "\n",
        "# Predict on test data\n",
        "clf31_new_opt.fit(x3_train, y3_train)"
      ],
      "execution_count": null,
      "outputs": [
        {
          "output_type": "execute_result",
          "data": {
            "text/plain": [
              "RandomForestClassifier(max_depth=402, min_samples_leaf=13, n_estimators=201,\n",
              "                       n_jobs=-1, random_state=36)"
            ]
          },
          "metadata": {
            "tags": []
          },
          "execution_count": 104
        }
      ]
    },
    {
      "cell_type": "code",
      "metadata": {
        "id": "-HFLuHYuSTKP"
      },
      "source": [
        "y0pred1_new = clf01_new_opt.predict(x0_test)\n",
        "y1pred1_new = clf11_new_opt.predict(x1_test)\n",
        "y2pred1_new = clf21_new_opt.predict(x2_test)\n",
        "y3pred1_new = clf31_new_opt.predict(x3_test)"
      ],
      "execution_count": null,
      "outputs": []
    },
    {
      "cell_type": "code",
      "metadata": {
        "id": "IoMepv8ESTKQ",
        "outputId": "b1c320e8-2818-4e0a-aa96-37cc50a5dd6f"
      },
      "source": [
        "from sklearn.metrics import accuracy_score, precision_score, recall_score, confusion_matrix\n",
        "print(accuracy_score(y0_test,y0pred1_new),\n",
        "      accuracy_score(y1_test,y1pred1_new),\n",
        "      accuracy_score(y2_test,y2pred1_new),\n",
        "      accuracy_score(y3_test,y3pred1_new)\n",
        "     )"
      ],
      "execution_count": null,
      "outputs": [
        {
          "output_type": "stream",
          "text": [
            "0.792 0.774 0.808 0.798\n"
          ],
          "name": "stdout"
        }
      ]
    },
    {
      "cell_type": "markdown",
      "metadata": {
        "id": "DZqPr1rxSTKQ"
      },
      "source": [
        "Reduced search range and modified min sample per leaf maintain or slightly decrease the accuracy on the test data.\n",
        "Among them, still average pooling gives the best accuracy comparable to the one without dimension reduction."
      ]
    },
    {
      "cell_type": "code",
      "metadata": {
        "id": "UEQphaoUSTKQ"
      },
      "source": [
        ""
      ],
      "execution_count": null,
      "outputs": []
    },
    {
      "cell_type": "code",
      "metadata": {
        "id": "MrF9mxgDSTKQ"
      },
      "source": [
        "# RF, updated search range2\n",
        "# try to reduce the max depth a little bit more to see if the accuracy on the test data improves"
      ],
      "execution_count": null,
      "outputs": []
    },
    {
      "cell_type": "code",
      "metadata": {
        "scrolled": true,
        "id": "ET1LmuCaSTKQ",
        "outputId": "1d604b4d-80ee-43e2-eecf-5b234bab86e1"
      },
      "source": [
        "from sklearn.ensemble import RandomForestClassifier\n",
        "from sklearn.model_selection import RandomizedSearchCV\n",
        "\n",
        "clf01_new1 = RandomForestClassifier(criterion='gini',\n",
        "                              n_jobs=-1,\n",
        "                              random_state = 36)\n",
        "param1_new1 = {\"n_estimators\": np.arange(1,500,50).tolist(),\n",
        "          \"max_depth\":np.arange(2,250,50).tolist(),        # reduced\n",
        "          \"min_samples_leaf\":np.arange(1,50,6).tolist(),    # adjusted\n",
        "          }\n",
        "\n",
        "search01_new1 = RandomizedSearchCV(clf01_new1, param1_new1, cv = 4,\n",
        "                            n_iter=100, verbose=1)\n",
        "\n",
        "search01_new1.fit(x0_train, y0_train)\n",
        "\n",
        "## Save the parameters \n",
        "RF0_new1 = search01_new1.best_params_\n",
        "print(RF0_new1)"
      ],
      "execution_count": null,
      "outputs": [
        {
          "output_type": "stream",
          "text": [
            "Fitting 4 folds for each of 100 candidates, totalling 400 fits\n"
          ],
          "name": "stdout"
        },
        {
          "output_type": "stream",
          "text": [
            "[Parallel(n_jobs=1)]: Using backend SequentialBackend with 1 concurrent workers.\n",
            "[Parallel(n_jobs=1)]: Done 400 out of 400 | elapsed:  8.0min finished\n"
          ],
          "name": "stderr"
        },
        {
          "output_type": "stream",
          "text": [
            "{'n_estimators': 301, 'min_samples_leaf': 7, 'max_depth': 52}\n"
          ],
          "name": "stdout"
        }
      ]
    },
    {
      "cell_type": "code",
      "metadata": {
        "id": "_rV8fCxISTKR",
        "outputId": "ec694215-b7c8-49ed-bc07-33dc144fa89c"
      },
      "source": [
        "# Create the optimal classifier\n",
        "clf01_new1_opt = RandomForestClassifier(criterion='gini',\n",
        "                              n_jobs=-1,\n",
        "                              random_state = 36,\n",
        "                              n_estimators = RF0_new1[\"n_estimators\"],\n",
        "                              max_depth = RF0_new1[\"max_depth\"],\n",
        "                              min_samples_leaf = RF0_new1[\"min_samples_leaf\"]\n",
        "                              )\n",
        "\n",
        "# Predict on test data\n",
        "clf01_new1_opt.fit(x0_train, y0_train)"
      ],
      "execution_count": null,
      "outputs": [
        {
          "output_type": "execute_result",
          "data": {
            "text/plain": [
              "RandomForestClassifier(max_depth=52, min_samples_leaf=7, n_estimators=301,\n",
              "                       n_jobs=-1, random_state=36)"
            ]
          },
          "metadata": {
            "tags": []
          },
          "execution_count": 108
        }
      ]
    },
    {
      "cell_type": "code",
      "metadata": {
        "id": "-Po3hoRMSTKR",
        "outputId": "868c369d-fd14-434d-ab36-23907028fa69"
      },
      "source": [
        "from sklearn.ensemble import RandomForestClassifier\n",
        "from sklearn.model_selection import RandomizedSearchCV\n",
        "\n",
        "clf11_new1 = RandomForestClassifier(criterion='gini',\n",
        "                              n_jobs=-1,\n",
        "                              random_state = 36)\n",
        "param1_new1 = {\"n_estimators\": np.arange(1,500,50).tolist(),\n",
        "          \"max_depth\":np.arange(2,250,50).tolist(),        # reduced\n",
        "          \"min_samples_leaf\":np.arange(1,50,6).tolist(),    # adjusted\n",
        "          }\n",
        "\n",
        "search11_new1 = RandomizedSearchCV(clf11_new1, param1_new1, cv = 4,\n",
        "                            n_iter=100, verbose=1)\n",
        "\n",
        "search11_new1.fit(x1_train, y1_train)\n",
        "\n",
        "## Save the parameters \n",
        "RF1_new1 = search11_new1.best_params_\n",
        "print(RF1_new1)\n"
      ],
      "execution_count": null,
      "outputs": [
        {
          "output_type": "stream",
          "text": [
            "Fitting 4 folds for each of 100 candidates, totalling 400 fits\n"
          ],
          "name": "stdout"
        },
        {
          "output_type": "stream",
          "text": [
            "[Parallel(n_jobs=1)]: Using backend SequentialBackend with 1 concurrent workers.\n",
            "[Parallel(n_jobs=1)]: Done 400 out of 400 | elapsed:  3.7min finished\n"
          ],
          "name": "stderr"
        },
        {
          "output_type": "stream",
          "text": [
            "{'n_estimators': 251, 'min_samples_leaf': 7, 'max_depth': 202}\n"
          ],
          "name": "stdout"
        }
      ]
    },
    {
      "cell_type": "code",
      "metadata": {
        "id": "b9YjYrq2STKR",
        "outputId": "2861d9fe-803f-4f6e-f817-72d6bfa0b8ec"
      },
      "source": [
        "# Create the optimal classifier\n",
        "clf11_new1_opt = RandomForestClassifier(criterion='gini',\n",
        "                              n_jobs=-1,\n",
        "                              random_state = 36,\n",
        "                              n_estimators = RF1_new1[\"n_estimators\"],\n",
        "                              max_depth = RF1_new1[\"max_depth\"],\n",
        "                              min_samples_leaf = RF1_new1[\"min_samples_leaf\"]\n",
        "                              )\n",
        "\n",
        "# Predict on test data\n",
        "clf11_new1_opt.fit(x1_train, y1_train)"
      ],
      "execution_count": null,
      "outputs": [
        {
          "output_type": "execute_result",
          "data": {
            "text/plain": [
              "RandomForestClassifier(max_depth=202, min_samples_leaf=7, n_estimators=251,\n",
              "                       n_jobs=-1, random_state=36)"
            ]
          },
          "metadata": {
            "tags": []
          },
          "execution_count": 124
        }
      ]
    },
    {
      "cell_type": "code",
      "metadata": {
        "scrolled": true,
        "id": "ixi3WJGlSTKR",
        "outputId": "037a041a-ba99-471e-99a8-5882c1eb35fe"
      },
      "source": [
        "from sklearn.ensemble import RandomForestClassifier\n",
        "from sklearn.model_selection import RandomizedSearchCV\n",
        "\n",
        "clf21_new1 = RandomForestClassifier(criterion='gini',\n",
        "                              n_jobs=-1,\n",
        "                              random_state = 36)\n",
        "param1_new1 = {\"n_estimators\": np.arange(1,500,50).tolist(),\n",
        "          \"max_depth\":np.arange(2,250,50).tolist(),        # reduced\n",
        "          \"min_samples_leaf\":np.arange(1,50,6).tolist(),    # adjusted\n",
        "          }\n",
        "\n",
        "search21_new1 = RandomizedSearchCV(clf21_new1, param1_new1, cv = 4,\n",
        "                            n_iter=100, verbose=1)\n",
        "\n",
        "search21_new1.fit(x2_train, y2_train)\n",
        "\n",
        "## Save the parameters \n",
        "RF2_new1 = search21_new1.best_params_\n",
        "print(RF2_new1)"
      ],
      "execution_count": null,
      "outputs": [
        {
          "output_type": "stream",
          "text": [
            "Fitting 4 folds for each of 100 candidates, totalling 400 fits\n"
          ],
          "name": "stdout"
        },
        {
          "output_type": "stream",
          "text": [
            "[Parallel(n_jobs=1)]: Using backend SequentialBackend with 1 concurrent workers.\n",
            "[Parallel(n_jobs=1)]: Done 400 out of 400 | elapsed:  4.3min finished\n"
          ],
          "name": "stderr"
        },
        {
          "output_type": "stream",
          "text": [
            "{'n_estimators': 51, 'min_samples_leaf': 1, 'max_depth': 202}\n"
          ],
          "name": "stdout"
        }
      ]
    },
    {
      "cell_type": "code",
      "metadata": {
        "id": "VcmsmYyFSTKS",
        "outputId": "808a0937-c27d-407a-a44c-13f3462e0540"
      },
      "source": [
        "# Create the optimal classifier\n",
        "clf21_new1_opt = RandomForestClassifier(criterion='gini',\n",
        "                              n_jobs=-1,\n",
        "                              random_state = 36,\n",
        "                              n_estimators = RF2_new1[\"n_estimators\"],\n",
        "                              max_depth = RF2_new1[\"max_depth\"],\n",
        "                              min_samples_leaf = RF2_new1[\"min_samples_leaf\"]\n",
        "                              )\n",
        "\n",
        "# Predict on test data\n",
        "clf21_new1_opt.fit(x2_train, y2_train)"
      ],
      "execution_count": null,
      "outputs": [
        {
          "output_type": "execute_result",
          "data": {
            "text/plain": [
              "RandomForestClassifier(max_depth=202, n_estimators=51, n_jobs=-1,\n",
              "                       random_state=36)"
            ]
          },
          "metadata": {
            "tags": []
          },
          "execution_count": 112
        }
      ]
    },
    {
      "cell_type": "code",
      "metadata": {
        "id": "63i_YSZySTKS",
        "outputId": "09a2eb49-1f76-4483-912f-3cdce79ed04f"
      },
      "source": [
        "from sklearn.ensemble import RandomForestClassifier\n",
        "from sklearn.model_selection import RandomizedSearchCV\n",
        "\n",
        "clf31_new1 = RandomForestClassifier(criterion='gini',\n",
        "                              n_jobs=-1,\n",
        "                              random_state = 36)\n",
        "param1_new1 = {\"n_estimators\": np.arange(1,500,50).tolist(),\n",
        "          \"max_depth\":np.arange(2,250,50).tolist(),        # reduced\n",
        "          \"min_samples_leaf\":np.arange(1,50,6).tolist(),    # adjusted\n",
        "          }\n",
        "\n",
        "search31_new1 = RandomizedSearchCV(clf31_new1, param1_new1, cv = 4,\n",
        "                            n_iter=100, verbose=1)\n",
        "\n",
        "search31_new1.fit(x3_train, y3_train)\n",
        "\n",
        "## Save the parameters \n",
        "RF3_new1 = search31_new1.best_params_\n",
        "print(RF3_new1)"
      ],
      "execution_count": null,
      "outputs": [
        {
          "output_type": "stream",
          "text": [
            "Fitting 4 folds for each of 100 candidates, totalling 400 fits\n"
          ],
          "name": "stdout"
        },
        {
          "output_type": "stream",
          "text": [
            "[Parallel(n_jobs=1)]: Using backend SequentialBackend with 1 concurrent workers.\n",
            "[Parallel(n_jobs=1)]: Done 400 out of 400 | elapsed:  4.8min finished\n"
          ],
          "name": "stderr"
        },
        {
          "output_type": "stream",
          "text": [
            "{'n_estimators': 251, 'min_samples_leaf': 7, 'max_depth': 202}\n"
          ],
          "name": "stdout"
        }
      ]
    },
    {
      "cell_type": "code",
      "metadata": {
        "id": "9gJWFP0bSTKS",
        "outputId": "17069455-7f33-4809-b54c-300490f02184"
      },
      "source": [
        "# Create the optimal classifier\n",
        "clf31_new1_opt = RandomForestClassifier(criterion='gini',\n",
        "                              n_jobs=-1,\n",
        "                              random_state = 36,\n",
        "                              n_estimators = RF3_new1[\"n_estimators\"],\n",
        "                              max_depth = RF3_new1[\"max_depth\"],\n",
        "                              min_samples_leaf = RF3_new1[\"min_samples_leaf\"]\n",
        "                              )\n",
        "\n",
        "# Predict on test data\n",
        "clf31_new1_opt.fit(x3_train, y3_train)"
      ],
      "execution_count": null,
      "outputs": [
        {
          "output_type": "execute_result",
          "data": {
            "text/plain": [
              "RandomForestClassifier(max_depth=202, min_samples_leaf=7, n_estimators=251,\n",
              "                       n_jobs=-1, random_state=36)"
            ]
          },
          "metadata": {
            "tags": []
          },
          "execution_count": 114
        }
      ]
    },
    {
      "cell_type": "code",
      "metadata": {
        "id": "Tnjntf4dSTKT"
      },
      "source": [
        ""
      ],
      "execution_count": null,
      "outputs": []
    },
    {
      "cell_type": "code",
      "metadata": {
        "id": "mtGv4cFaSTKT"
      },
      "source": [
        "y0pred1_new1 = clf01_new1_opt.predict(x0_test)\n",
        "y1pred1_new1 = clf11_new1_opt.predict(x1_test)\n",
        "y2pred1_new1 = clf21_new1_opt.predict(x2_test)\n",
        "y3pred1_new1 = clf31_new1_opt.predict(x3_test)"
      ],
      "execution_count": null,
      "outputs": []
    },
    {
      "cell_type": "code",
      "metadata": {
        "id": "7vs3BwKPSTKT",
        "outputId": "9c0b2d96-1f5f-4c32-b728-f95e4dae9442"
      },
      "source": [
        "from sklearn.metrics import accuracy_score, precision_score, recall_score, confusion_matrix\n",
        "print(accuracy_score(y0_test,y0pred1_new1),\n",
        "      accuracy_score(y1_test,y1pred1_new1),\n",
        "      accuracy_score(y2_test,y2pred1_new1),\n",
        "      accuracy_score(y3_test,y3pred1_new1)\n",
        "     )"
      ],
      "execution_count": null,
      "outputs": [
        {
          "output_type": "stream",
          "text": [
            "0.792 0.774 0.792 0.806\n"
          ],
          "name": "stdout"
        }
      ]
    },
    {
      "cell_type": "markdown",
      "metadata": {
        "id": "f1yX-NctSTKT"
      },
      "source": [
        "Reduced search range actually decrease the accuracy on the test data.\n",
        "Among them, still average pooling gives the best accuracy comparable to the one without dimension reduction.\n",
        "Even if the dimension strategy of averaging 3 channels yield accuracy close to that of average pooling, considering efficiency, average pooling is better because it has fewer dimensions (48*48*2) than the former do (96*96)."
      ]
    },
    {
      "cell_type": "code",
      "metadata": {
        "id": "kBR1K51BSTKT"
      },
      "source": [
        ""
      ],
      "execution_count": null,
      "outputs": []
    },
    {
      "cell_type": "markdown",
      "metadata": {
        "id": "E9dS9VTjSTKU"
      },
      "source": [
        "Compare RF with average pooling and 3 different search ranges in other metrics"
      ]
    },
    {
      "cell_type": "code",
      "metadata": {
        "id": "gKqzhJBLSTKU",
        "outputId": "a4b8bcb1-713a-4d93-b2d8-2f8ed6b4be96"
      },
      "source": [
        "# RF, previous search range, average pooling\n",
        "from sklearn.metrics import accuracy_score, precision_score, recall_score, confusion_matrix,f1_score\n",
        "\n",
        "print(precision_score(y2_test,y2pred1))\n",
        "print(recall_score(y2_test,y2pred1))\n",
        "print(f1_score(y2_test,y2pred1))"
      ],
      "execution_count": null,
      "outputs": [
        {
          "output_type": "stream",
          "text": [
            "0.7473309608540926\n",
            "0.84\n",
            "0.7909604519774012\n"
          ],
          "name": "stdout"
        }
      ]
    },
    {
      "cell_type": "code",
      "metadata": {
        "id": "_cWLW68CSTKU",
        "outputId": "bfb483c4-7664-4fd3-fc7e-f07ac44bf1bc"
      },
      "source": [
        "# RF, updated search range1, average pooling\n",
        "print(precision_score(y2_test,y2pred1_new))\n",
        "print(recall_score(y2_test,y2pred1_new))\n",
        "print(f1_score(y2_test,y2pred1_new))"
      ],
      "execution_count": null,
      "outputs": [
        {
          "output_type": "stream",
          "text": [
            "0.7730496453900709\n",
            "0.872\n",
            "0.8195488721804511\n"
          ],
          "name": "stdout"
        }
      ]
    },
    {
      "cell_type": "code",
      "metadata": {
        "id": "IXuQn_iASTKU",
        "outputId": "426d7151-9581-4670-87c4-218e90cde37d"
      },
      "source": [
        "# RF, updated search range2, average pooling\n",
        "print(precision_score(y2_test,y2pred1_new1))\n",
        "print(recall_score(y2_test,y2pred1_new1))\n",
        "print(f1_score(y2_test,y2pred1_new1))"
      ],
      "execution_count": null,
      "outputs": [
        {
          "output_type": "stream",
          "text": [
            "0.7570422535211268\n",
            "0.86\n",
            "0.8052434456928839\n"
          ],
          "name": "stdout"
        }
      ]
    },
    {
      "cell_type": "markdown",
      "metadata": {
        "id": "EEr1zC8rSTKU"
      },
      "source": [
        "Because RF with search range 1 yields comparable accuaracy to RF with previous search range, and outruns in other metrics, it's reasonable to proceed with the best hyperparameters found in the search range 1."
      ]
    },
    {
      "cell_type": "code",
      "metadata": {
        "id": "0L4Lu8xKSTKV"
      },
      "source": [
        ""
      ],
      "execution_count": null,
      "outputs": []
    },
    {
      "cell_type": "code",
      "metadata": {
        "id": "3wBUpMF5STKV"
      },
      "source": [
        ""
      ],
      "execution_count": null,
      "outputs": []
    },
    {
      "cell_type": "code",
      "metadata": {
        "id": "I1KSf-gbSTKV"
      },
      "source": [
        ""
      ],
      "execution_count": null,
      "outputs": []
    },
    {
      "cell_type": "code",
      "metadata": {
        "id": "NXjlolmtSTKV"
      },
      "source": [
        "\n"
      ],
      "execution_count": null,
      "outputs": []
    }
  ]
}