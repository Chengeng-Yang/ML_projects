{
  "nbformat": 4,
  "nbformat_minor": 0,
  "metadata": {
    "colab": {
      "provenance": [],
      "collapsed_sections": [],
      "include_colab_link": true
    },
    "kernelspec": {
      "name": "python3",
      "display_name": "Python 3"
    },
    "language_info": {
      "name": "python"
    }
  },
  "cells": [
    {
      "cell_type": "markdown",
      "metadata": {
        "id": "view-in-github",
        "colab_type": "text"
      },
      "source": [
        "<a href=\"https://colab.research.google.com/github/Chengeng-Yang/ML_projects/blob/main/BMEresult.ipynb\" target=\"_parent\"><img src=\"https://colab.research.google.com/assets/colab-badge.svg\" alt=\"Open In Colab\"/></a>"
      ]
    },
    {
      "cell_type": "code",
      "metadata": {
        "id": "gncP8KKxx8iq",
        "colab": {
          "resources": {
            "http://localhost:8080/nbextensions/google.colab/files.js": {
              "data": "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",
              "ok": true,
              "headers": [
                [
                  "content-type",
                  "application/javascript"
                ]
              ],
              "status": 200,
              "status_text": ""
            }
          },
          "base_uri": "https://localhost:8080/",
          "height": 73
        },
        "outputId": "dca50ed0-4967-443c-8138-4d3c11a980c7"
      },
      "source": [
        "from google.colab import files\n",
        "uploaded=files.upload()   # \n",
        "\n",
        "import h5py\n",
        "fid = h5py.File('dataset_patchcamelyon.h5', 'r')\n",
        "X, Y = fid['X'][:], fid['Y'][:]\n",
        "X = X / 255.\n",
        "fid.close()"
      ],
      "execution_count": null,
      "outputs": [
        {
          "output_type": "display_data",
          "data": {
            "text/html": [
              "\n",
              "     <input type=\"file\" id=\"files-d3b72639-4b92-4964-a9b1-e993297acb09\" name=\"files[]\" multiple disabled\n",
              "        style=\"border:none\" />\n",
              "     <output id=\"result-d3b72639-4b92-4964-a9b1-e993297acb09\">\n",
              "      Upload widget is only available when the cell has been executed in the\n",
              "      current browser session. Please rerun this cell to enable.\n",
              "      </output>\n",
              "      <script src=\"/nbextensions/google.colab/files.js\"></script> "
            ],
            "text/plain": [
              "<IPython.core.display.HTML object>"
            ]
          },
          "metadata": {
            "tags": []
          }
        },
        {
          "output_type": "stream",
          "text": [
            "Saving dataset_patchcamelyon.h5 to dataset_patchcamelyon.h5\n"
          ],
          "name": "stdout"
        }
      ]
    },
    {
      "cell_type": "code",
      "metadata": {
        "id": "gXouVss8yPgp"
      },
      "source": [
        "from sklearn.model_selection import train_test_split\n",
        "x=X.reshape(2500,-1)\n",
        "y=Y.reshape(2500,-1)\n",
        "\n",
        "import numpy as np  \n",
        "import matplotlib\n",
        "import matplotlib.pyplot as plt\n",
        "\n",
        "shuffle_index=np.random.permutation(2500)\n",
        "x,y=x[shuffle_index],y[shuffle_index]\n",
        "\n",
        "xtrain,x_test,ytrain,y_test=train_test_split(x,y,test_size=0.2,random_state=30)\n",
        "x_train,x_val,y_train,y_val=train_test_split(xtrain,ytrain,test_size=0.2,random_state=36)\n",
        "\n",
        "x_train=x_train.reshape(-1,96,96,3)\n",
        "x_val=x_val.reshape(-1,96,96,3)\n",
        "x_test=x_test.reshape(-1,96,96,3)"
      ],
      "execution_count": null,
      "outputs": []
    },
    {
      "cell_type": "code",
      "metadata": {
        "id": "g7DlpR-OyPcp",
        "colab": {
          "base_uri": "https://localhost:8080/"
        },
        "outputId": "71e0203d-c84c-47e3-f18f-4ddcec5c3c89"
      },
      "source": [
        "import tensorflow as tf\n",
        "from tensorflow import keras\n",
        "\n",
        "\n",
        "\n",
        "cnn4 = keras.models.Sequential()\n",
        "cnn4.add(keras.layers.Conv2D(filters=64, kernel_size=5, strides=2,activation=\"relu\", padding=\"same\", input_shape=[96,96,3]))\n",
        "cnn4.add(keras.layers.MaxPooling2D(pool_size=(3,3), strides=2, padding=\"same\"))\n",
        "\n",
        "cnn4.add(keras.layers.Conv2D(filters=128, kernel_size=1, strides=1,activation=\"relu\", padding=\"same\"))\n",
        "cnn4.add(keras.layers.Conv2D(filters=128, kernel_size=4, strides=1,activation=\"relu\", padding=\"same\"))\n",
        "cnn4.add(keras.layers.MaxPooling2D(pool_size=(3,3), strides=2, padding=\"same\"))\n",
        "\n",
        "\n",
        "cnn4.add(keras.layers.Conv2D(filters=128, kernel_size=4, strides=1,activation=\"relu\", padding=\"same\"))\n",
        "cnn4.add(keras.layers.Conv2D(filters=128, kernel_size=3, strides=2,activation=\"relu\", padding=\"same\"))\n",
        "cnn4.add(keras.layers.MaxPooling2D(pool_size=(2,2), strides=1, padding=\"same\"))\n",
        "\n",
        "\n",
        "cnn4.add(keras.layers.Conv2D(filters=128, kernel_size=1, strides=1,activation=\"relu\", padding=\"same\"))\n",
        "cnn4.add(keras.layers.Conv2D(filters=256, kernel_size=2, strides=1,activation=\"relu\", padding=\"same\"))\n",
        "cnn4.add(keras.layers.Dropout(0.25))\n",
        "\n",
        "\n",
        "cnn4.add(keras.layers.Flatten())\n",
        "cnn4.add(keras.layers.BatchNormalization())\n",
        "cnn4.add(keras.layers.Dense(100, activation=\"relu\",kernel_initializer='he_normal')) \n",
        "cnn4.add(keras.layers.Dropout(0.25))\n",
        "cnn4.add(keras.layers.BatchNormalization())\n",
        "cnn4.add(keras.layers.Dense(100, activation=\"relu\",kernel_initializer='he_normal')) \n",
        "cnn4.add(keras.layers.Dropout(0.25))\n",
        "cnn4.add(keras.layers.Dense(2, activation=\"softmax\"))\n",
        "\n",
        "# change kernel initializer\n",
        "\n",
        "earlystop_cnn = keras.callbacks.EarlyStopping(monitor='val_accuracy',patience=20, restore_best_weights=True)\n",
        "# NADAM 82-84% ACCURACY\n",
        "# ADADELTA VERY LOW\n",
        "# ADAGRAD VERY LOW\n",
        "# RMS PROP  80% 82%\n",
        "# SGD very low, nesterove true or not\n",
        "\n",
        "\n",
        "nadam = keras.optimizers.Nadam(learning_rate=0.0001)\n",
        "cnn4.compile(loss=\"sparse_categorical_crossentropy\",optimizer=nadam,metrics=[\"accuracy\"])\n",
        "n_epochs = 100\n",
        "training_cnn4 = cnn4.fit(x_train, y_train, epochs = n_epochs,\n",
        "                           validation_data = (x_val, y_val),\n",
        "                           callbacks=[earlystop_cnn])\n",
        "\n",
        "cnn4.evaluate(x_val,y_val)\n",
        "cnn4.evaluate(x_test,y_test)\n",
        "# error analysis and performance\n",
        "from sklearn.metrics import confusion_matrix,accuracy_score,precision_score,recall_score, f1_score \n",
        "\n",
        "\n",
        "\n",
        "\n",
        "# CNN best \n",
        "# input: x_train,y_train,x_val,y_val,x_test,y_test\n",
        "\n",
        "\n",
        "cnnprd=cnn4.predict_classes(x_test)\n",
        "CM1 = confusion_matrix(y_test, cnnprd)\n",
        "CM1 = CM1.astype('float') / CM1.sum(axis=1)[:, np.newaxis]   \n",
        "#np.fill_diagonal(CM1,0)\n",
        "\n",
        "plt.matshow(CM1, cmap=plt.cm.coolwarm)\n",
        "plt.title('CNN best model')\n",
        "plt.tight_layout\n",
        "plt.colorbar()\n",
        "plt.show()\n",
        "\n",
        "\n",
        "\n",
        "\n",
        "\n",
        "\n",
        "print('accuracy cnn',accuracy_score(y_test, cnnprd))\n",
        "\n",
        "print('precision cnn',precision_score(y_test, cnnprd,average='weighted'))\n",
        "\n",
        "print('recall cnn',recall_score(y_test, cnnprd,average='weighted'))\n",
        "\n",
        "print('f1 cnn',f1_score(y_test, cnnprd,average='weighted'))\n",
        "\n"
      ],
      "execution_count": null,
      "outputs": [
        {
          "output_type": "stream",
          "text": [
            "Epoch 1/100\n",
            "50/50 [==============================] - 3s 26ms/step - loss: 1.0096 - accuracy: 0.5126 - val_loss: 0.6929 - val_accuracy: 0.4875\n",
            "Epoch 2/100\n",
            "50/50 [==============================] - 1s 20ms/step - loss: 0.8092 - accuracy: 0.6139 - val_loss: 0.6767 - val_accuracy: 0.7625\n",
            "Epoch 3/100\n",
            "50/50 [==============================] - 1s 20ms/step - loss: 0.6551 - accuracy: 0.6957 - val_loss: 0.6516 - val_accuracy: 0.7075\n",
            "Epoch 4/100\n",
            "50/50 [==============================] - 1s 20ms/step - loss: 0.5962 - accuracy: 0.7333 - val_loss: 0.7023 - val_accuracy: 0.4875\n",
            "Epoch 5/100\n",
            "50/50 [==============================] - 1s 20ms/step - loss: 0.6451 - accuracy: 0.7024 - val_loss: 0.6500 - val_accuracy: 0.5075\n",
            "Epoch 6/100\n",
            "50/50 [==============================] - 1s 20ms/step - loss: 0.5360 - accuracy: 0.7494 - val_loss: 0.5522 - val_accuracy: 0.7375\n",
            "Epoch 7/100\n",
            "50/50 [==============================] - 1s 20ms/step - loss: 0.5233 - accuracy: 0.7765 - val_loss: 0.5822 - val_accuracy: 0.6500\n",
            "Epoch 8/100\n",
            "50/50 [==============================] - 1s 20ms/step - loss: 0.5118 - accuracy: 0.7880 - val_loss: 0.5301 - val_accuracy: 0.7600\n",
            "Epoch 9/100\n",
            "50/50 [==============================] - 1s 20ms/step - loss: 0.4836 - accuracy: 0.7814 - val_loss: 0.4627 - val_accuracy: 0.7825\n",
            "Epoch 10/100\n",
            "50/50 [==============================] - 1s 19ms/step - loss: 0.4267 - accuracy: 0.8120 - val_loss: 0.4496 - val_accuracy: 0.7975\n",
            "Epoch 11/100\n",
            "50/50 [==============================] - 1s 20ms/step - loss: 0.4640 - accuracy: 0.8085 - val_loss: 0.4301 - val_accuracy: 0.8250\n",
            "Epoch 12/100\n",
            "50/50 [==============================] - 1s 19ms/step - loss: 0.4530 - accuracy: 0.7756 - val_loss: 0.5364 - val_accuracy: 0.7000\n",
            "Epoch 13/100\n",
            "50/50 [==============================] - 1s 20ms/step - loss: 0.4483 - accuracy: 0.7990 - val_loss: 2.4789 - val_accuracy: 0.4875\n",
            "Epoch 14/100\n",
            "50/50 [==============================] - 1s 19ms/step - loss: 0.4561 - accuracy: 0.7802 - val_loss: 1.8827 - val_accuracy: 0.4875\n",
            "Epoch 15/100\n",
            "50/50 [==============================] - 1s 20ms/step - loss: 0.4656 - accuracy: 0.7714 - val_loss: 0.4213 - val_accuracy: 0.8225\n",
            "Epoch 16/100\n",
            "50/50 [==============================] - 1s 20ms/step - loss: 0.4009 - accuracy: 0.8195 - val_loss: 0.6758 - val_accuracy: 0.6200\n",
            "Epoch 17/100\n",
            "50/50 [==============================] - 1s 20ms/step - loss: 0.3956 - accuracy: 0.8283 - val_loss: 0.4918 - val_accuracy: 0.8050\n",
            "Epoch 18/100\n",
            "50/50 [==============================] - 1s 20ms/step - loss: 0.3800 - accuracy: 0.8433 - val_loss: 0.5720 - val_accuracy: 0.7575\n",
            "Epoch 19/100\n",
            "50/50 [==============================] - 1s 19ms/step - loss: 0.3903 - accuracy: 0.8067 - val_loss: 0.6482 - val_accuracy: 0.7700\n",
            "Epoch 20/100\n",
            "50/50 [==============================] - 1s 20ms/step - loss: 0.3468 - accuracy: 0.8533 - val_loss: 2.1695 - val_accuracy: 0.6075\n",
            "Epoch 21/100\n",
            "50/50 [==============================] - 1s 20ms/step - loss: 0.3600 - accuracy: 0.8512 - val_loss: 0.6895 - val_accuracy: 0.6825\n",
            "Epoch 22/100\n",
            "50/50 [==============================] - 1s 20ms/step - loss: 0.3083 - accuracy: 0.8639 - val_loss: 2.1625 - val_accuracy: 0.5400\n",
            "Epoch 23/100\n",
            "50/50 [==============================] - 1s 19ms/step - loss: 0.3487 - accuracy: 0.8446 - val_loss: 1.0740 - val_accuracy: 0.6725\n",
            "Epoch 24/100\n",
            "50/50 [==============================] - 1s 20ms/step - loss: 0.3467 - accuracy: 0.8448 - val_loss: 0.3867 - val_accuracy: 0.8300\n",
            "Epoch 25/100\n",
            "50/50 [==============================] - 1s 20ms/step - loss: 0.2885 - accuracy: 0.8870 - val_loss: 0.6770 - val_accuracy: 0.7225\n",
            "Epoch 26/100\n",
            "50/50 [==============================] - 1s 20ms/step - loss: 0.2141 - accuracy: 0.9222 - val_loss: 0.4594 - val_accuracy: 0.8200\n",
            "Epoch 27/100\n",
            "50/50 [==============================] - 1s 20ms/step - loss: 0.2023 - accuracy: 0.9234 - val_loss: 3.9768 - val_accuracy: 0.4875\n",
            "Epoch 28/100\n",
            "50/50 [==============================] - 1s 20ms/step - loss: 0.1646 - accuracy: 0.9395 - val_loss: 2.4892 - val_accuracy: 0.4950\n",
            "Epoch 29/100\n",
            "50/50 [==============================] - 1s 20ms/step - loss: 0.1313 - accuracy: 0.9537 - val_loss: 1.0236 - val_accuracy: 0.7675\n",
            "Epoch 30/100\n",
            "50/50 [==============================] - 1s 20ms/step - loss: 0.1051 - accuracy: 0.9629 - val_loss: 0.5774 - val_accuracy: 0.8475\n",
            "Epoch 31/100\n",
            "50/50 [==============================] - 1s 20ms/step - loss: 0.0699 - accuracy: 0.9815 - val_loss: 0.6637 - val_accuracy: 0.7675\n",
            "Epoch 32/100\n",
            "50/50 [==============================] - 1s 20ms/step - loss: 0.0559 - accuracy: 0.9861 - val_loss: 0.5144 - val_accuracy: 0.8475\n",
            "Epoch 33/100\n",
            "50/50 [==============================] - 1s 20ms/step - loss: 0.0471 - accuracy: 0.9856 - val_loss: 0.8419 - val_accuracy: 0.7625\n",
            "Epoch 34/100\n",
            "50/50 [==============================] - 1s 20ms/step - loss: 0.0631 - accuracy: 0.9781 - val_loss: 0.9074 - val_accuracy: 0.7200\n",
            "Epoch 35/100\n",
            "50/50 [==============================] - 1s 20ms/step - loss: 0.0722 - accuracy: 0.9728 - val_loss: 0.5722 - val_accuracy: 0.8450\n",
            "Epoch 36/100\n",
            "50/50 [==============================] - 1s 20ms/step - loss: 0.0253 - accuracy: 0.9957 - val_loss: 0.7316 - val_accuracy: 0.8450\n",
            "Epoch 37/100\n",
            "50/50 [==============================] - 1s 20ms/step - loss: 0.0101 - accuracy: 0.9982 - val_loss: 1.0124 - val_accuracy: 0.7750\n",
            "Epoch 38/100\n",
            "50/50 [==============================] - 1s 20ms/step - loss: 0.0098 - accuracy: 0.9994 - val_loss: 0.7338 - val_accuracy: 0.8300\n",
            "Epoch 39/100\n",
            "50/50 [==============================] - 1s 20ms/step - loss: 0.0098 - accuracy: 0.9987 - val_loss: 2.8192 - val_accuracy: 0.6575\n",
            "Epoch 40/100\n",
            "50/50 [==============================] - 1s 20ms/step - loss: 0.0664 - accuracy: 0.9826 - val_loss: 0.8010 - val_accuracy: 0.8000\n",
            "Epoch 41/100\n",
            "50/50 [==============================] - 1s 20ms/step - loss: 0.0252 - accuracy: 0.9931 - val_loss: 0.7250 - val_accuracy: 0.8550\n",
            "Epoch 42/100\n",
            "50/50 [==============================] - 1s 20ms/step - loss: 0.0104 - accuracy: 0.9998 - val_loss: 0.7480 - val_accuracy: 0.8300\n",
            "Epoch 43/100\n",
            "50/50 [==============================] - 1s 20ms/step - loss: 0.0093 - accuracy: 0.9993 - val_loss: 0.9018 - val_accuracy: 0.8150\n",
            "Epoch 44/100\n",
            "50/50 [==============================] - 1s 20ms/step - loss: 0.0254 - accuracy: 0.9928 - val_loss: 0.5687 - val_accuracy: 0.8200\n",
            "Epoch 45/100\n",
            "50/50 [==============================] - 1s 20ms/step - loss: 0.0475 - accuracy: 0.9874 - val_loss: 0.5864 - val_accuracy: 0.8500\n",
            "Epoch 46/100\n",
            "50/50 [==============================] - 1s 20ms/step - loss: 0.0290 - accuracy: 0.9915 - val_loss: 2.1612 - val_accuracy: 0.7225\n",
            "Epoch 47/100\n",
            "50/50 [==============================] - 1s 21ms/step - loss: 0.0379 - accuracy: 0.9843 - val_loss: 1.4499 - val_accuracy: 0.7725\n",
            "Epoch 48/100\n",
            "50/50 [==============================] - 1s 20ms/step - loss: 0.0335 - accuracy: 0.9895 - val_loss: 1.0933 - val_accuracy: 0.7550\n",
            "Epoch 49/100\n",
            "50/50 [==============================] - 1s 20ms/step - loss: 0.0054 - accuracy: 0.9993 - val_loss: 0.9791 - val_accuracy: 0.7775\n",
            "Epoch 50/100\n",
            "50/50 [==============================] - 1s 20ms/step - loss: 0.0069 - accuracy: 1.0000 - val_loss: 0.7172 - val_accuracy: 0.8425\n",
            "Epoch 51/100\n",
            "50/50 [==============================] - 1s 20ms/step - loss: 0.0077 - accuracy: 0.9981 - val_loss: 2.1719 - val_accuracy: 0.6225\n",
            "Epoch 52/100\n",
            "50/50 [==============================] - 1s 20ms/step - loss: 0.0537 - accuracy: 0.9834 - val_loss: 1.2906 - val_accuracy: 0.7050\n",
            "Epoch 53/100\n",
            "50/50 [==============================] - 1s 20ms/step - loss: 0.0226 - accuracy: 0.9951 - val_loss: 3.2552 - val_accuracy: 0.5125\n",
            "Epoch 54/100\n",
            "50/50 [==============================] - 1s 20ms/step - loss: 0.0244 - accuracy: 0.9904 - val_loss: 1.3010 - val_accuracy: 0.7925\n",
            "Epoch 55/100\n",
            "50/50 [==============================] - 1s 20ms/step - loss: 0.0181 - accuracy: 0.9927 - val_loss: 0.9746 - val_accuracy: 0.8075\n",
            "Epoch 56/100\n",
            "50/50 [==============================] - 1s 20ms/step - loss: 0.0324 - accuracy: 0.9847 - val_loss: 0.8003 - val_accuracy: 0.8325\n",
            "Epoch 57/100\n",
            "50/50 [==============================] - 1s 20ms/step - loss: 0.0215 - accuracy: 0.9940 - val_loss: 1.3079 - val_accuracy: 0.8075\n",
            "Epoch 58/100\n",
            "50/50 [==============================] - 1s 21ms/step - loss: 0.0083 - accuracy: 0.9985 - val_loss: 0.8728 - val_accuracy: 0.8050\n",
            "Epoch 59/100\n",
            "50/50 [==============================] - 1s 21ms/step - loss: 0.0052 - accuracy: 0.9998 - val_loss: 1.2757 - val_accuracy: 0.8200\n",
            "Epoch 60/100\n",
            "50/50 [==============================] - 1s 20ms/step - loss: 0.0175 - accuracy: 0.9920 - val_loss: 0.7845 - val_accuracy: 0.8425\n",
            "Epoch 61/100\n",
            "50/50 [==============================] - 1s 20ms/step - loss: 0.0124 - accuracy: 0.9950 - val_loss: 0.7781 - val_accuracy: 0.8400\n",
            "13/13 [==============================] - 0s 7ms/step - loss: 0.7250 - accuracy: 0.8550\n",
            "16/16 [==============================] - 0s 6ms/step - loss: 0.9905 - accuracy: 0.8200\n"
          ],
          "name": "stdout"
        },
        {
          "output_type": "execute_result",
          "data": {
            "text/plain": [
              "[0.9905393123626709, 0.8199999928474426]"
            ]
          },
          "metadata": {
            "tags": []
          },
          "execution_count": 6
        }
      ]
    },
    {
      "cell_type": "code",
      "metadata": {
        "id": "PpFZSTw0yPLA"
      },
      "source": [],
      "execution_count": null,
      "outputs": []
    },
    {
      "cell_type": "code",
      "metadata": {
        "id": "TjZeP4ClyPHd"
      },
      "source": [
        "import tensorflow as tf\n",
        "from tensorflow import keras\n",
        "\n",
        "\n",
        "\n",
        "avepool=tf.keras.layers.AveragePooling2D(pool_size=(2,2),strides=(2,2),padding='valid')\n",
        "\n",
        "x2_train,x2_test = avepool(x_train),avepool(x_test)\n"
      ],
      "execution_count": null,
      "outputs": []
    },
    {
      "cell_type": "code",
      "metadata": {
        "id": "mf8BR8sbtee_"
      },
      "source": [
        "x2_train,x2_test=np.asarray(x2_train),np.asarray(x2_test)\n",
        "\n",
        "x2_train,x2_test=x2_train.reshape(1600,-1),x2_test.reshape(500,-1) \n"
      ],
      "execution_count": null,
      "outputs": []
    },
    {
      "cell_type": "code",
      "metadata": {
        "id": "PbB5VN1xyPAt",
        "colab": {
          "base_uri": "https://localhost:8080/"
        },
        "outputId": "35c4e263-7f00-4a2a-dbd4-6811f0bb5ad6"
      },
      "source": [
        "from sklearn.ensemble import RandomForestClassifier\n",
        "# Create the optimal classifier\n",
        "clf1_opt = RandomForestClassifier(criterion='gini',\n",
        "                              n_jobs=-1,\n",
        "                              random_state = 36,\n",
        "                              n_estimators = 351, #RF[\"n_estimators\"],\n",
        "                              max_depth = 302, #RF[\"max_depth\"],\n",
        "                              min_samples_leaf = 1, #RF[\"min_samples_leaf\"]\n",
        "                              )\n",
        "\n",
        "# Predict on test data\n",
        "clf1_opt.fit(x2_train, y_train)"
      ],
      "execution_count": null,
      "outputs": [
        {
          "output_type": "stream",
          "text": [
            "/usr/local/lib/python3.7/dist-packages/ipykernel_launcher.py:12: DataConversionWarning: A column-vector y was passed when a 1d array was expected. Please change the shape of y to (n_samples,), for example using ravel().\n",
            "  if sys.path[0] == '':\n"
          ],
          "name": "stderr"
        },
        {
          "output_type": "execute_result",
          "data": {
            "text/plain": [
              "RandomForestClassifier(bootstrap=True, ccp_alpha=0.0, class_weight=None,\n",
              "                       criterion='gini', max_depth=302, max_features='auto',\n",
              "                       max_leaf_nodes=None, max_samples=None,\n",
              "                       min_impurity_decrease=0.0, min_impurity_split=None,\n",
              "                       min_samples_leaf=1, min_samples_split=2,\n",
              "                       min_weight_fraction_leaf=0.0, n_estimators=351,\n",
              "                       n_jobs=-1, oob_score=False, random_state=36, verbose=0,\n",
              "                       warm_start=False)"
            ]
          },
          "metadata": {
            "tags": []
          },
          "execution_count": 6
        }
      ]
    },
    {
      "cell_type": "code",
      "metadata": {
        "id": "a9sR872TyO9n",
        "colab": {
          "base_uri": "https://localhost:8080/",
          "height": 421
        },
        "outputId": "1059df92-0b41-4fd5-aaa5-7f4fa1f8f926"
      },
      "source": [
        "#avg pooling\n",
        "y2pred1=clf1_opt.predict(x2_test)\n",
        "from sklearn.metrics import accuracy_score, precision_score, recall_score, confusion_matrix,f1_score\n",
        "print(accuracy_score(y_test,y2pred1))\n",
        "print(precision_score(y_test,y2pred1))\n",
        "print(recall_score(y_test,y2pred1))\n",
        "print(f1_score(y_test,y2pred1))\n",
        "\n",
        "\n",
        "# RF\n",
        "# input: \n",
        "\n",
        "CM3 = confusion_matrix(y_test,y2pred1)\n",
        "CM3 = CM3.astype('float') / CM3.sum(axis=1)[:, np.newaxis]   \n",
        "#np.fill_diagonal(CM3,0)\n",
        "\n",
        "plt.matshow(CM3, cmap=plt.cm.coolwarm)\n",
        "plt.title('random forest best model')\n",
        "plt.tight_layout\n",
        "plt.colorbar()\n",
        "plt.show()\n",
        "\n"
      ],
      "execution_count": null,
      "outputs": [
        {
          "output_type": "error",
          "ename": "ValueError",
          "evalue": "ignored",
          "traceback": [
            "\u001b[0;31m---------------------------------------------------------------------------\u001b[0m",
            "\u001b[0;31mValueError\u001b[0m                                Traceback (most recent call last)",
            "\u001b[0;32m<ipython-input-7-6573eab5cfe3>\u001b[0m in \u001b[0;36m<module>\u001b[0;34m()\u001b[0m\n\u001b[1;32m      1\u001b[0m \u001b[0;31m#avg pooling\u001b[0m\u001b[0;34m\u001b[0m\u001b[0;34m\u001b[0m\u001b[0;34m\u001b[0m\u001b[0m\n\u001b[0;32m----> 2\u001b[0;31m \u001b[0my2pred1\u001b[0m\u001b[0;34m=\u001b[0m\u001b[0mclf1_opt\u001b[0m\u001b[0;34m.\u001b[0m\u001b[0mpredict\u001b[0m\u001b[0;34m(\u001b[0m\u001b[0mx2_test\u001b[0m\u001b[0;34m)\u001b[0m\u001b[0;34m\u001b[0m\u001b[0;34m\u001b[0m\u001b[0m\n\u001b[0m\u001b[1;32m      3\u001b[0m \u001b[0;32mfrom\u001b[0m \u001b[0msklearn\u001b[0m\u001b[0;34m.\u001b[0m\u001b[0mmetrics\u001b[0m \u001b[0;32mimport\u001b[0m \u001b[0maccuracy_score\u001b[0m\u001b[0;34m,\u001b[0m \u001b[0mprecision_score\u001b[0m\u001b[0;34m,\u001b[0m \u001b[0mrecall_score\u001b[0m\u001b[0;34m,\u001b[0m \u001b[0mconfusion_matrix\u001b[0m\u001b[0;34m,\u001b[0m\u001b[0mf1_score\u001b[0m\u001b[0;34m\u001b[0m\u001b[0;34m\u001b[0m\u001b[0m\n\u001b[1;32m      4\u001b[0m \u001b[0mprint\u001b[0m\u001b[0;34m(\u001b[0m\u001b[0maccuracy_score\u001b[0m\u001b[0;34m(\u001b[0m\u001b[0my_test\u001b[0m\u001b[0;34m,\u001b[0m\u001b[0my2pred1\u001b[0m\u001b[0;34m)\u001b[0m\u001b[0;34m)\u001b[0m\u001b[0;34m\u001b[0m\u001b[0;34m\u001b[0m\u001b[0m\n\u001b[1;32m      5\u001b[0m \u001b[0mprint\u001b[0m\u001b[0;34m(\u001b[0m\u001b[0mprecision_score\u001b[0m\u001b[0;34m(\u001b[0m\u001b[0my_test\u001b[0m\u001b[0;34m,\u001b[0m\u001b[0my2pred1\u001b[0m\u001b[0;34m)\u001b[0m\u001b[0;34m)\u001b[0m\u001b[0;34m\u001b[0m\u001b[0;34m\u001b[0m\u001b[0m\n",
            "\u001b[0;32m/usr/local/lib/python3.7/dist-packages/sklearn/ensemble/_forest.py\u001b[0m in \u001b[0;36mpredict\u001b[0;34m(self, X)\u001b[0m\n\u001b[1;32m    610\u001b[0m             \u001b[0mThe\u001b[0m \u001b[0mpredicted\u001b[0m \u001b[0mclasses\u001b[0m\u001b[0;34m.\u001b[0m\u001b[0;34m\u001b[0m\u001b[0;34m\u001b[0m\u001b[0m\n\u001b[1;32m    611\u001b[0m         \"\"\"\n\u001b[0;32m--> 612\u001b[0;31m         \u001b[0mproba\u001b[0m \u001b[0;34m=\u001b[0m \u001b[0mself\u001b[0m\u001b[0;34m.\u001b[0m\u001b[0mpredict_proba\u001b[0m\u001b[0;34m(\u001b[0m\u001b[0mX\u001b[0m\u001b[0;34m)\u001b[0m\u001b[0;34m\u001b[0m\u001b[0;34m\u001b[0m\u001b[0m\n\u001b[0m\u001b[1;32m    613\u001b[0m \u001b[0;34m\u001b[0m\u001b[0m\n\u001b[1;32m    614\u001b[0m         \u001b[0;32mif\u001b[0m \u001b[0mself\u001b[0m\u001b[0;34m.\u001b[0m\u001b[0mn_outputs_\u001b[0m \u001b[0;34m==\u001b[0m \u001b[0;36m1\u001b[0m\u001b[0;34m:\u001b[0m\u001b[0;34m\u001b[0m\u001b[0;34m\u001b[0m\u001b[0m\n",
            "\u001b[0;32m/usr/local/lib/python3.7/dist-packages/sklearn/ensemble/_forest.py\u001b[0m in \u001b[0;36mpredict_proba\u001b[0;34m(self, X)\u001b[0m\n\u001b[1;32m    667\u001b[0m             delayed(_accumulate_prediction)(e.predict_proba, X, all_proba,\n\u001b[1;32m    668\u001b[0m                                             lock)\n\u001b[0;32m--> 669\u001b[0;31m             for e in self.estimators_)\n\u001b[0m\u001b[1;32m    670\u001b[0m \u001b[0;34m\u001b[0m\u001b[0m\n\u001b[1;32m    671\u001b[0m         \u001b[0;32mfor\u001b[0m \u001b[0mproba\u001b[0m \u001b[0;32min\u001b[0m \u001b[0mall_proba\u001b[0m\u001b[0;34m:\u001b[0m\u001b[0;34m\u001b[0m\u001b[0;34m\u001b[0m\u001b[0m\n",
            "\u001b[0;32m/usr/local/lib/python3.7/dist-packages/joblib/parallel.py\u001b[0m in \u001b[0;36m__call__\u001b[0;34m(self, iterable)\u001b[0m\n\u001b[1;32m   1052\u001b[0m \u001b[0;34m\u001b[0m\u001b[0m\n\u001b[1;32m   1053\u001b[0m             \u001b[0;32mwith\u001b[0m \u001b[0mself\u001b[0m\u001b[0;34m.\u001b[0m\u001b[0m_backend\u001b[0m\u001b[0;34m.\u001b[0m\u001b[0mretrieval_context\u001b[0m\u001b[0;34m(\u001b[0m\u001b[0;34m)\u001b[0m\u001b[0;34m:\u001b[0m\u001b[0;34m\u001b[0m\u001b[0;34m\u001b[0m\u001b[0m\n\u001b[0;32m-> 1054\u001b[0;31m                 \u001b[0mself\u001b[0m\u001b[0;34m.\u001b[0m\u001b[0mretrieve\u001b[0m\u001b[0;34m(\u001b[0m\u001b[0;34m)\u001b[0m\u001b[0;34m\u001b[0m\u001b[0;34m\u001b[0m\u001b[0m\n\u001b[0m\u001b[1;32m   1055\u001b[0m             \u001b[0;31m# Make sure that we get a last message telling us we are done\u001b[0m\u001b[0;34m\u001b[0m\u001b[0;34m\u001b[0m\u001b[0;34m\u001b[0m\u001b[0m\n\u001b[1;32m   1056\u001b[0m             \u001b[0melapsed_time\u001b[0m \u001b[0;34m=\u001b[0m \u001b[0mtime\u001b[0m\u001b[0;34m.\u001b[0m\u001b[0mtime\u001b[0m\u001b[0;34m(\u001b[0m\u001b[0;34m)\u001b[0m \u001b[0;34m-\u001b[0m \u001b[0mself\u001b[0m\u001b[0;34m.\u001b[0m\u001b[0m_start_time\u001b[0m\u001b[0;34m\u001b[0m\u001b[0;34m\u001b[0m\u001b[0m\n",
            "\u001b[0;32m/usr/local/lib/python3.7/dist-packages/joblib/parallel.py\u001b[0m in \u001b[0;36mretrieve\u001b[0;34m(self)\u001b[0m\n\u001b[1;32m    931\u001b[0m             \u001b[0;32mtry\u001b[0m\u001b[0;34m:\u001b[0m\u001b[0;34m\u001b[0m\u001b[0;34m\u001b[0m\u001b[0m\n\u001b[1;32m    932\u001b[0m                 \u001b[0;32mif\u001b[0m \u001b[0mgetattr\u001b[0m\u001b[0;34m(\u001b[0m\u001b[0mself\u001b[0m\u001b[0;34m.\u001b[0m\u001b[0m_backend\u001b[0m\u001b[0;34m,\u001b[0m \u001b[0;34m'supports_timeout'\u001b[0m\u001b[0;34m,\u001b[0m \u001b[0;32mFalse\u001b[0m\u001b[0;34m)\u001b[0m\u001b[0;34m:\u001b[0m\u001b[0;34m\u001b[0m\u001b[0;34m\u001b[0m\u001b[0m\n\u001b[0;32m--> 933\u001b[0;31m                     \u001b[0mself\u001b[0m\u001b[0;34m.\u001b[0m\u001b[0m_output\u001b[0m\u001b[0;34m.\u001b[0m\u001b[0mextend\u001b[0m\u001b[0;34m(\u001b[0m\u001b[0mjob\u001b[0m\u001b[0;34m.\u001b[0m\u001b[0mget\u001b[0m\u001b[0;34m(\u001b[0m\u001b[0mtimeout\u001b[0m\u001b[0;34m=\u001b[0m\u001b[0mself\u001b[0m\u001b[0;34m.\u001b[0m\u001b[0mtimeout\u001b[0m\u001b[0;34m)\u001b[0m\u001b[0;34m)\u001b[0m\u001b[0;34m\u001b[0m\u001b[0;34m\u001b[0m\u001b[0m\n\u001b[0m\u001b[1;32m    934\u001b[0m                 \u001b[0;32melse\u001b[0m\u001b[0;34m:\u001b[0m\u001b[0;34m\u001b[0m\u001b[0;34m\u001b[0m\u001b[0m\n\u001b[1;32m    935\u001b[0m                     \u001b[0mself\u001b[0m\u001b[0;34m.\u001b[0m\u001b[0m_output\u001b[0m\u001b[0;34m.\u001b[0m\u001b[0mextend\u001b[0m\u001b[0;34m(\u001b[0m\u001b[0mjob\u001b[0m\u001b[0;34m.\u001b[0m\u001b[0mget\u001b[0m\u001b[0;34m(\u001b[0m\u001b[0;34m)\u001b[0m\u001b[0;34m)\u001b[0m\u001b[0;34m\u001b[0m\u001b[0;34m\u001b[0m\u001b[0m\n",
            "\u001b[0;32m/usr/lib/python3.7/multiprocessing/pool.py\u001b[0m in \u001b[0;36mget\u001b[0;34m(self, timeout)\u001b[0m\n\u001b[1;32m    655\u001b[0m             \u001b[0;32mreturn\u001b[0m \u001b[0mself\u001b[0m\u001b[0;34m.\u001b[0m\u001b[0m_value\u001b[0m\u001b[0;34m\u001b[0m\u001b[0;34m\u001b[0m\u001b[0m\n\u001b[1;32m    656\u001b[0m         \u001b[0;32melse\u001b[0m\u001b[0;34m:\u001b[0m\u001b[0;34m\u001b[0m\u001b[0;34m\u001b[0m\u001b[0m\n\u001b[0;32m--> 657\u001b[0;31m             \u001b[0;32mraise\u001b[0m \u001b[0mself\u001b[0m\u001b[0;34m.\u001b[0m\u001b[0m_value\u001b[0m\u001b[0;34m\u001b[0m\u001b[0;34m\u001b[0m\u001b[0m\n\u001b[0m\u001b[1;32m    658\u001b[0m \u001b[0;34m\u001b[0m\u001b[0m\n\u001b[1;32m    659\u001b[0m     \u001b[0;32mdef\u001b[0m \u001b[0m_set\u001b[0m\u001b[0;34m(\u001b[0m\u001b[0mself\u001b[0m\u001b[0;34m,\u001b[0m \u001b[0mi\u001b[0m\u001b[0;34m,\u001b[0m \u001b[0mobj\u001b[0m\u001b[0;34m)\u001b[0m\u001b[0;34m:\u001b[0m\u001b[0;34m\u001b[0m\u001b[0;34m\u001b[0m\u001b[0m\n",
            "\u001b[0;32m/usr/lib/python3.7/multiprocessing/pool.py\u001b[0m in \u001b[0;36mworker\u001b[0;34m(inqueue, outqueue, initializer, initargs, maxtasks, wrap_exception)\u001b[0m\n\u001b[1;32m    119\u001b[0m         \u001b[0mjob\u001b[0m\u001b[0;34m,\u001b[0m \u001b[0mi\u001b[0m\u001b[0;34m,\u001b[0m \u001b[0mfunc\u001b[0m\u001b[0;34m,\u001b[0m \u001b[0margs\u001b[0m\u001b[0;34m,\u001b[0m \u001b[0mkwds\u001b[0m \u001b[0;34m=\u001b[0m \u001b[0mtask\u001b[0m\u001b[0;34m\u001b[0m\u001b[0;34m\u001b[0m\u001b[0m\n\u001b[1;32m    120\u001b[0m         \u001b[0;32mtry\u001b[0m\u001b[0;34m:\u001b[0m\u001b[0;34m\u001b[0m\u001b[0;34m\u001b[0m\u001b[0m\n\u001b[0;32m--> 121\u001b[0;31m             \u001b[0mresult\u001b[0m \u001b[0;34m=\u001b[0m \u001b[0;34m(\u001b[0m\u001b[0;32mTrue\u001b[0m\u001b[0;34m,\u001b[0m \u001b[0mfunc\u001b[0m\u001b[0;34m(\u001b[0m\u001b[0;34m*\u001b[0m\u001b[0margs\u001b[0m\u001b[0;34m,\u001b[0m \u001b[0;34m**\u001b[0m\u001b[0mkwds\u001b[0m\u001b[0;34m)\u001b[0m\u001b[0;34m)\u001b[0m\u001b[0;34m\u001b[0m\u001b[0;34m\u001b[0m\u001b[0m\n\u001b[0m\u001b[1;32m    122\u001b[0m         \u001b[0;32mexcept\u001b[0m \u001b[0mException\u001b[0m \u001b[0;32mas\u001b[0m \u001b[0me\u001b[0m\u001b[0;34m:\u001b[0m\u001b[0;34m\u001b[0m\u001b[0;34m\u001b[0m\u001b[0m\n\u001b[1;32m    123\u001b[0m             \u001b[0;32mif\u001b[0m \u001b[0mwrap_exception\u001b[0m \u001b[0;32mand\u001b[0m \u001b[0mfunc\u001b[0m \u001b[0;32mis\u001b[0m \u001b[0;32mnot\u001b[0m \u001b[0m_helper_reraises_exception\u001b[0m\u001b[0;34m:\u001b[0m\u001b[0;34m\u001b[0m\u001b[0;34m\u001b[0m\u001b[0m\n",
            "\u001b[0;32m/usr/local/lib/python3.7/dist-packages/joblib/_parallel_backends.py\u001b[0m in \u001b[0;36m__call__\u001b[0;34m(self, *args, **kwargs)\u001b[0m\n\u001b[1;32m    593\u001b[0m     \u001b[0;32mdef\u001b[0m \u001b[0m__call__\u001b[0m\u001b[0;34m(\u001b[0m\u001b[0mself\u001b[0m\u001b[0;34m,\u001b[0m \u001b[0;34m*\u001b[0m\u001b[0margs\u001b[0m\u001b[0;34m,\u001b[0m \u001b[0;34m**\u001b[0m\u001b[0mkwargs\u001b[0m\u001b[0;34m)\u001b[0m\u001b[0;34m:\u001b[0m\u001b[0;34m\u001b[0m\u001b[0;34m\u001b[0m\u001b[0m\n\u001b[1;32m    594\u001b[0m         \u001b[0;32mtry\u001b[0m\u001b[0;34m:\u001b[0m\u001b[0;34m\u001b[0m\u001b[0;34m\u001b[0m\u001b[0m\n\u001b[0;32m--> 595\u001b[0;31m             \u001b[0;32mreturn\u001b[0m \u001b[0mself\u001b[0m\u001b[0;34m.\u001b[0m\u001b[0mfunc\u001b[0m\u001b[0;34m(\u001b[0m\u001b[0;34m*\u001b[0m\u001b[0margs\u001b[0m\u001b[0;34m,\u001b[0m \u001b[0;34m**\u001b[0m\u001b[0mkwargs\u001b[0m\u001b[0;34m)\u001b[0m\u001b[0;34m\u001b[0m\u001b[0;34m\u001b[0m\u001b[0m\n\u001b[0m\u001b[1;32m    596\u001b[0m         \u001b[0;32mexcept\u001b[0m \u001b[0mKeyboardInterrupt\u001b[0m \u001b[0;32mas\u001b[0m \u001b[0me\u001b[0m\u001b[0;34m:\u001b[0m\u001b[0;34m\u001b[0m\u001b[0;34m\u001b[0m\u001b[0m\n\u001b[1;32m    597\u001b[0m             \u001b[0;31m# We capture the KeyboardInterrupt and reraise it as\u001b[0m\u001b[0;34m\u001b[0m\u001b[0;34m\u001b[0m\u001b[0;34m\u001b[0m\u001b[0m\n",
            "\u001b[0;32m/usr/local/lib/python3.7/dist-packages/joblib/parallel.py\u001b[0m in \u001b[0;36m__call__\u001b[0;34m(self)\u001b[0m\n\u001b[1;32m    261\u001b[0m         \u001b[0;32mwith\u001b[0m \u001b[0mparallel_backend\u001b[0m\u001b[0;34m(\u001b[0m\u001b[0mself\u001b[0m\u001b[0;34m.\u001b[0m\u001b[0m_backend\u001b[0m\u001b[0;34m,\u001b[0m \u001b[0mn_jobs\u001b[0m\u001b[0;34m=\u001b[0m\u001b[0mself\u001b[0m\u001b[0;34m.\u001b[0m\u001b[0m_n_jobs\u001b[0m\u001b[0;34m)\u001b[0m\u001b[0;34m:\u001b[0m\u001b[0;34m\u001b[0m\u001b[0;34m\u001b[0m\u001b[0m\n\u001b[1;32m    262\u001b[0m             return [func(*args, **kwargs)\n\u001b[0;32m--> 263\u001b[0;31m                     for func, args, kwargs in self.items]\n\u001b[0m\u001b[1;32m    264\u001b[0m \u001b[0;34m\u001b[0m\u001b[0m\n\u001b[1;32m    265\u001b[0m     \u001b[0;32mdef\u001b[0m \u001b[0m__reduce__\u001b[0m\u001b[0;34m(\u001b[0m\u001b[0mself\u001b[0m\u001b[0;34m)\u001b[0m\u001b[0;34m:\u001b[0m\u001b[0;34m\u001b[0m\u001b[0;34m\u001b[0m\u001b[0m\n",
            "\u001b[0;32m/usr/local/lib/python3.7/dist-packages/joblib/parallel.py\u001b[0m in \u001b[0;36m<listcomp>\u001b[0;34m(.0)\u001b[0m\n\u001b[1;32m    261\u001b[0m         \u001b[0;32mwith\u001b[0m \u001b[0mparallel_backend\u001b[0m\u001b[0;34m(\u001b[0m\u001b[0mself\u001b[0m\u001b[0;34m.\u001b[0m\u001b[0m_backend\u001b[0m\u001b[0;34m,\u001b[0m \u001b[0mn_jobs\u001b[0m\u001b[0;34m=\u001b[0m\u001b[0mself\u001b[0m\u001b[0;34m.\u001b[0m\u001b[0m_n_jobs\u001b[0m\u001b[0;34m)\u001b[0m\u001b[0;34m:\u001b[0m\u001b[0;34m\u001b[0m\u001b[0;34m\u001b[0m\u001b[0m\n\u001b[1;32m    262\u001b[0m             return [func(*args, **kwargs)\n\u001b[0;32m--> 263\u001b[0;31m                     for func, args, kwargs in self.items]\n\u001b[0m\u001b[1;32m    264\u001b[0m \u001b[0;34m\u001b[0m\u001b[0m\n\u001b[1;32m    265\u001b[0m     \u001b[0;32mdef\u001b[0m \u001b[0m__reduce__\u001b[0m\u001b[0;34m(\u001b[0m\u001b[0mself\u001b[0m\u001b[0;34m)\u001b[0m\u001b[0;34m:\u001b[0m\u001b[0;34m\u001b[0m\u001b[0;34m\u001b[0m\u001b[0m\n",
            "\u001b[0;32m/usr/local/lib/python3.7/dist-packages/sklearn/ensemble/_forest.py\u001b[0m in \u001b[0;36m_accumulate_prediction\u001b[0;34m(predict, X, out, lock)\u001b[0m\n\u001b[1;32m    447\u001b[0m     \u001b[0mcomplains\u001b[0m \u001b[0mthat\u001b[0m \u001b[0mit\u001b[0m \u001b[0mcannot\u001b[0m \u001b[0mpickle\u001b[0m \u001b[0mit\u001b[0m \u001b[0mwhen\u001b[0m \u001b[0mplaced\u001b[0m \u001b[0mthere\u001b[0m\u001b[0;34m.\u001b[0m\u001b[0;34m\u001b[0m\u001b[0;34m\u001b[0m\u001b[0m\n\u001b[1;32m    448\u001b[0m     \"\"\"\n\u001b[0;32m--> 449\u001b[0;31m     \u001b[0mprediction\u001b[0m \u001b[0;34m=\u001b[0m \u001b[0mpredict\u001b[0m\u001b[0;34m(\u001b[0m\u001b[0mX\u001b[0m\u001b[0;34m,\u001b[0m \u001b[0mcheck_input\u001b[0m\u001b[0;34m=\u001b[0m\u001b[0;32mFalse\u001b[0m\u001b[0;34m)\u001b[0m\u001b[0;34m\u001b[0m\u001b[0;34m\u001b[0m\u001b[0m\n\u001b[0m\u001b[1;32m    450\u001b[0m     \u001b[0;32mwith\u001b[0m \u001b[0mlock\u001b[0m\u001b[0;34m:\u001b[0m\u001b[0;34m\u001b[0m\u001b[0;34m\u001b[0m\u001b[0m\n\u001b[1;32m    451\u001b[0m         \u001b[0;32mif\u001b[0m \u001b[0mlen\u001b[0m\u001b[0;34m(\u001b[0m\u001b[0mout\u001b[0m\u001b[0;34m)\u001b[0m \u001b[0;34m==\u001b[0m \u001b[0;36m1\u001b[0m\u001b[0;34m:\u001b[0m\u001b[0;34m\u001b[0m\u001b[0;34m\u001b[0m\u001b[0m\n",
            "\u001b[0;32m/usr/local/lib/python3.7/dist-packages/sklearn/tree/_classes.py\u001b[0m in \u001b[0;36mpredict_proba\u001b[0;34m(self, X, check_input)\u001b[0m\n\u001b[1;32m    904\u001b[0m         \u001b[0mcheck_is_fitted\u001b[0m\u001b[0;34m(\u001b[0m\u001b[0mself\u001b[0m\u001b[0;34m)\u001b[0m\u001b[0;34m\u001b[0m\u001b[0;34m\u001b[0m\u001b[0m\n\u001b[1;32m    905\u001b[0m         \u001b[0mX\u001b[0m \u001b[0;34m=\u001b[0m \u001b[0mself\u001b[0m\u001b[0;34m.\u001b[0m\u001b[0m_validate_X_predict\u001b[0m\u001b[0;34m(\u001b[0m\u001b[0mX\u001b[0m\u001b[0;34m,\u001b[0m \u001b[0mcheck_input\u001b[0m\u001b[0;34m)\u001b[0m\u001b[0;34m\u001b[0m\u001b[0;34m\u001b[0m\u001b[0m\n\u001b[0;32m--> 906\u001b[0;31m         \u001b[0mproba\u001b[0m \u001b[0;34m=\u001b[0m \u001b[0mself\u001b[0m\u001b[0;34m.\u001b[0m\u001b[0mtree_\u001b[0m\u001b[0;34m.\u001b[0m\u001b[0mpredict\u001b[0m\u001b[0;34m(\u001b[0m\u001b[0mX\u001b[0m\u001b[0;34m)\u001b[0m\u001b[0;34m\u001b[0m\u001b[0;34m\u001b[0m\u001b[0m\n\u001b[0m\u001b[1;32m    907\u001b[0m \u001b[0;34m\u001b[0m\u001b[0m\n\u001b[1;32m    908\u001b[0m         \u001b[0;32mif\u001b[0m \u001b[0mself\u001b[0m\u001b[0;34m.\u001b[0m\u001b[0mn_outputs_\u001b[0m \u001b[0;34m==\u001b[0m \u001b[0;36m1\u001b[0m\u001b[0;34m:\u001b[0m\u001b[0;34m\u001b[0m\u001b[0;34m\u001b[0m\u001b[0m\n",
            "\u001b[0;32msklearn/tree/_tree.pyx\u001b[0m in \u001b[0;36msklearn.tree._tree.Tree.predict\u001b[0;34m()\u001b[0m\n",
            "\u001b[0;32msklearn/tree/_tree.pyx\u001b[0m in \u001b[0;36msklearn.tree._tree.Tree.predict\u001b[0;34m()\u001b[0m\n",
            "\u001b[0;32msklearn/tree/_tree.pyx\u001b[0m in \u001b[0;36msklearn.tree._tree.Tree.apply\u001b[0;34m()\u001b[0m\n",
            "\u001b[0;32msklearn/tree/_tree.pyx\u001b[0m in \u001b[0;36msklearn.tree._tree.Tree._apply_dense\u001b[0;34m()\u001b[0m\n",
            "\u001b[0;32m/usr/local/lib/python3.7/dist-packages/sklearn/tree/_tree.cpython-37m-x86_64-linux-gnu.so\u001b[0m in \u001b[0;36mView.MemoryView.memoryview_cwrapper\u001b[0;34m()\u001b[0m\n",
            "\u001b[0;32m/usr/local/lib/python3.7/dist-packages/sklearn/tree/_tree.cpython-37m-x86_64-linux-gnu.so\u001b[0m in \u001b[0;36mView.MemoryView.memoryview.__cinit__\u001b[0;34m()\u001b[0m\n",
            "\u001b[0;31mValueError\u001b[0m: buffer source array is read-only"
          ]
        }
      ]
    },
    {
      "cell_type": "code",
      "metadata": {
        "id": "jQJbcOCjyO6u",
        "colab": {
          "base_uri": "https://localhost:8080/",
          "height": 468
        },
        "outputId": "bb5b0aa6-1f8a-4041-a1ee-71e3d5d4387a"
      },
      "source": [
        "from sklearn.preprocessing import label_binarize\n",
        "from sklearn.metrics import precision_recall_curve, roc_curve, roc_auc_score, auc\n",
        "\n",
        "\n",
        "## compare the average ROC curves\n",
        "plt.figure(1, figsize=(18, 6))\n",
        "plt.clf()\n",
        "plt.plot([0, 1], [0, 1], 'k--')\n",
        "plt.axis([0, 1, 0, 1])\n",
        "plt.xlabel('False Positive Rate', fontsize=16)\n",
        "plt.ylabel('True Positive Rate', fontsize=16)\n",
        "plt.title('ROC Curves', fontsize=20)\n",
        "fpr_m = np.linspace(0, 1, 100)\n",
        "\n",
        "for i in range(1,3):\n",
        "    if (i==1):\n",
        "        classifier_cnn = cnn4.predict_proba(x_test)\n",
        "        label = 'CNN best'\n",
        "        colorval = 'b'\n",
        "    if (i==2):\n",
        "        classifier_rf = clf1_opt.predict_proba(x2_test)\n",
        "        label = 'RF best'\n",
        "        colorval = 'c'\n",
        "\n",
        "\n",
        "    if (i==1):\n",
        "      f,t,thre=roc_curve(y_test,classifier_cnn[:,1])\n",
        "      auc_cnn=roc_auc_score(y_test,classifier_cnn[:,1])\n",
        "      plt.plot(f, t, color=colorval, \n",
        "             label=r'%s (AUC = %0.4f)' % (label, auc_cnn), linewidth=3)\n",
        "      \n",
        "    if (i==2):\n",
        "      f1,t1,thre1=roc_curve(y_test,classifier_rf[:,1])\n",
        "      auc_rf=roc_auc_score(y_test,classifier_rf[:,1])\n",
        "      plt.plot(f1,t1, color=colorval, \n",
        "             label=r'%s (AUC = %0.4f)' % (label, auc_rf), linewidth=3)\n",
        "\n",
        "\n",
        "\n",
        "plt.legend()\n",
        "plt.show()"
      ],
      "execution_count": null,
      "outputs": [
        {
          "output_type": "stream",
          "text": [
            "/usr/local/lib/python3.7/dist-packages/tensorflow/python/keras/engine/sequential.py:425: UserWarning: `model.predict_proba()` is deprecated and will be removed after 2021-01-01. Please use `model.predict()` instead.\n",
            "  warnings.warn('`model.predict_proba()` is deprecated and '\n"
          ],
          "name": "stderr"
        },
        {
          "output_type": "display_data",
          "data": {
            "image/png": "[encoded data removed]",
            "text/plain": [
              "<Figure size 1296x432 with 1 Axes>"
            ]
          },
          "metadata": {
            "tags": [],
            "needs_background": "light"
          }
        }
      ]
    },
    {
      "cell_type": "code",
      "metadata": {
        "id": "XWFX5OL_yO3Q"
      },
      "source": [],
      "execution_count": null,
      "outputs": []
    },
    {
      "cell_type": "code",
      "metadata": {
        "id": "-gewvZDAyOub"
      },
      "source": [],
      "execution_count": null,
      "outputs": []
    },
    {
      "cell_type": "code",
      "metadata": {
        "id": "eHfIUX1lo9o8"
      },
      "source": [
        "#no dimension reduction\n",
        "#redo spliting, use x0_train instead\n",
        "\n",
        "shuffle_index=np.random.permutation(2500)\n",
        "x,y=x[shuffle_index],y[shuffle_index]\n",
        "\n",
        "x0train,x0_test,y0train,y_test=train_test_split(x,y,test_size=0.2,random_state=30) #scikilearn\n",
        "x0_train,x0_val,y0_train,y0_val=train_test_split(x0train,y0train,test_size=0.2,random_state=36)\n",
        "\n",
        "y0_train,y0_test=y0_train.reshape(1600,),y_test.reshape(500,) \n",
        "#scikilearn: x0train,x0_test,y0train,y0_test, for direct processing"
      ],
      "execution_count": null,
      "outputs": []
    },
    {
      "cell_type": "code",
      "metadata": {
        "id": "OoF9N2CqpBKR",
        "colab": {
          "base_uri": "https://localhost:8080/"
        },
        "outputId": "5bb36544-0566-4907-dbd9-5464aa2a3510"
      },
      "source": [
        "from sklearn.ensemble import RandomForestClassifier\n",
        "# Create the optimal classifier\n",
        "clfo1_opt = RandomForestClassifier(criterion='gini',\n",
        "                              n_jobs=-1,\n",
        "                              random_state = 36,\n",
        "                              n_estimators = 301, #RFo[\"n_estimators\"],\n",
        "                              max_depth = 527, #RFo[\"max_depth\"],\n",
        "                              min_samples_leaf = 1, #RFo[\"min_samples_leaf\"]\n",
        "                              )\n",
        "\n",
        "# Predict on test data\n",
        "clfo1_opt.fit(x0_train, y0_train)"
      ],
      "execution_count": null,
      "outputs": [
        {
          "output_type": "execute_result",
          "data": {
            "text/plain": [
              "RandomForestClassifier(bootstrap=True, ccp_alpha=0.0, class_weight=None,\n",
              "                       criterion='gini', max_depth=527, max_features='auto',\n",
              "                       max_leaf_nodes=None, max_samples=None,\n",
              "                       min_impurity_decrease=0.0, min_impurity_split=None,\n",
              "                       min_samples_leaf=1, min_samples_split=2,\n",
              "                       min_weight_fraction_leaf=0.0, n_estimators=301,\n",
              "                       n_jobs=-1, oob_score=False, random_state=36, verbose=0,\n",
              "                       warm_start=False)"
            ]
          },
          "metadata": {
            "tags": []
          },
          "execution_count": 45
        }
      ]
    },
    {
      "cell_type": "code",
      "metadata": {
        "id": "QnQ-uqfZpD_B",
        "colab": {
          "base_uri": "https://localhost:8080/"
        },
        "outputId": "c29f9d42-ccdb-4b48-d88d-eba87dfaadf8"
      },
      "source": [
        "y0pred1=clfo1_opt.predict(x0_test)\n",
        "print(accuracy_score(y0_test,y0pred1))\n",
        "print(precision_score(y0_test,y0pred1))\n",
        "print(recall_score(y0_test,y0pred1))\n",
        "print(f1_score(y0_test,y0pred1))"
      ],
      "execution_count": null,
      "outputs": [
        {
          "output_type": "stream",
          "text": [
            "0.772\n",
            "0.8049645390070922\n",
            "0.7937062937062938\n",
            "0.7992957746478873\n"
          ],
          "name": "stdout"
        }
      ]
    },
    {
      "cell_type": "code",
      "metadata": {
        "id": "6X4jw_53sJJe"
      },
      "source": [
        "ypred1_proba = cnn4.predict_proba(x_test)\n",
        "classifier = clf1_opt.predict_proba(x2_test)"
      ],
      "execution_count": null,
      "outputs": []
    },
    {
      "cell_type": "code",
      "metadata": {
        "id": "B_77YVQdsk16"
      },
      "source": [
        "ytest0_b = label_binarize(ytest0, classes=np.arange(0, 26)) # ytest0 has values 1 through 2 (digits)\n",
        "ytest0_b.shape"
      ],
      "execution_count": null,
      "outputs": []
    },
    {
      "cell_type": "code",
      "metadata": {
        "id": "pDuQifaSrU_h"
      },
      "source": [
        "# compute average ROC curves using ovr strategy\n",
        "\n",
        "from sklearn.metrics import precision_recall_curve, roc_curve, roc_auc_score, auc\n",
        "\n",
        "plt.figure(1, figsize=(20, 14))\n",
        "plt.clf()\n",
        "plt.plot([0, 1], [0, 1], 'k--')\n",
        "plt.axis([0, 1, 0, 1])\n",
        "plt.xlabel('False Positive Rate', fontsize=16)\n",
        "plt.ylabel('True Positive Rate', fontsize=16)\n",
        "plt.title('Average ROC Curves', fontsize=20)\n",
        "\n",
        "Fpr_mean = np.linspace(0, 1, 100)\n",
        "for i in range(0,2):\n",
        "    if (i==0):\n",
        "        labeltype = 'CNN'\n",
        "        colortype = 'g'\n",
        "        ypred_proba = ypred1_proba\n",
        "        \n",
        "    if (i==1):\n",
        "        labeltype = 'Random Forest'\n",
        "        colortype = 'b'\n",
        "        ypred_proba = ypred2_proba\n",
        "    \n",
        "    meantpr = []\n",
        "    AUC = []\n",
        "    for j in range(0,2):\n",
        "        f, t, T = roc_curve(ytest0_b[:,j], ypred_proba[:,j])\n",
        "        AUC.append(roc_auc_score(ytest0_b[:,j], ypred_proba[:,j]))\n",
        "        meantpr.append(np.interp(Fpr_mean, f, t))\n",
        "    \n",
        "    Tpr_mean = np.mean(meantpr, axis=0)\n",
        "    AUC_mean = auc(Fpr_mean, Tpr_mean)\n",
        "    std_auc = np.std(AUC)\n",
        "    plt.plot(Fpr_mean, Tpr_mean, color=colortype, \n",
        "             label=r'%s (AUC = %0.4f $\\pm$ %0.3f)' % (labeltype, AUC_mean, std_auc), \n",
        "             linewidth=3)\n",
        "plt.legend()\n",
        "plt.show()\n"
      ],
      "execution_count": null,
      "outputs": []
    },
    {
      "cell_type": "code",
      "metadata": {
        "id": "O2-Lcpj-_JCI"
      },
      "source": [
        "X3=np.average(X, axis=3)\n",
        "X3.shape\n",
        "\n",
        "x3=X3.reshape(2500,-1)\n",
        "y3=Y.reshape(2500,-1)"
      ],
      "execution_count": null,
      "outputs": []
    },
    {
      "cell_type": "code",
      "metadata": {
        "id": "j6neq2M4sUJr"
      },
      "source": [
        "import numpy as np              # NumPy is for numerical operations\n",
        "shuffle_index=np.random.permutation(2500)\n",
        "x3,y3=x3[shuffle_index],y3[shuffle_index]\n",
        "\n",
        "x3train,x3_test,y3train,y_test=train_test_split(x,y,test_size=0.2,random_state=30) #scikilearn\n",
        "x3_train,x3_val,y3_train,y3_val=train_test_split(x3train,y3train,test_size=0.2,random_state=36)\n",
        "\n",
        "y3_train,y3_test=y3_train.reshape(1600,),y_test.reshape(500,) \n",
        "#scikilearn: x0train,x0_test,y0train,y0_test, for direct processing"
      ],
      "execution_count": null,
      "outputs": []
    },
    {
      "cell_type": "code",
      "metadata": {
        "id": "9tM0V8uazCaq",
        "colab": {
          "base_uri": "https://localhost:8080/"
        },
        "outputId": "1b77a36e-775f-477f-cc8d-a084efc90937"
      },
      "source": [
        "# Create the optimal classifier\n",
        "from sklearn.ensemble import RandomForestClassifier\n",
        "clfo1_3_opt = RandomForestClassifier(criterion='gini',\n",
        "                              n_jobs=-1,\n",
        "                              random_state = 36,\n",
        "                              n_estimators = 401, \n",
        "                              max_depth = 452, \n",
        "                              min_samples_leaf = 1, \n",
        "                              )\n",
        "\n",
        "# Predict on test data\n",
        "clfo1_3_opt.fit(x3_train, y3_train)"
      ],
      "execution_count": null,
      "outputs": [
        {
          "output_type": "execute_result",
          "data": {
            "text/plain": [
              "RandomForestClassifier(bootstrap=True, ccp_alpha=0.0, class_weight=None,\n",
              "                       criterion='gini', max_depth=452, max_features='auto',\n",
              "                       max_leaf_nodes=None, max_samples=None,\n",
              "                       min_impurity_decrease=0.0, min_impurity_split=None,\n",
              "                       min_samples_leaf=1, min_samples_split=2,\n",
              "                       min_weight_fraction_leaf=0.0, n_estimators=401,\n",
              "                       n_jobs=-1, oob_score=False, random_state=36, verbose=0,\n",
              "                       warm_start=False)"
            ]
          },
          "metadata": {
            "tags": []
          },
          "execution_count": 56
        }
      ]
    },
    {
      "cell_type": "code",
      "metadata": {
        "id": "cGog1ED1zJJ4",
        "colab": {
          "base_uri": "https://localhost:8080/"
        },
        "outputId": "158fab50-b9df-4a74-aa76-e495a654b966"
      },
      "source": [
        "y3pred1=clfo1_opt.predict(x3_test)\n",
        "print(accuracy_score(y3_test,y3pred1))"
      ],
      "execution_count": null,
      "outputs": [
        {
          "output_type": "stream",
          "text": [
            "0.772\n"
          ],
          "name": "stdout"
        }
      ]
    },
    {
      "cell_type": "code",
      "metadata": {
        "id": "13e817dbHPRO"
      },
      "source": [],
      "execution_count": null,
      "outputs": []
    }
  ]
}